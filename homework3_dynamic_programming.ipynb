{
  "nbformat": 4,
  "nbformat_minor": 0,
  "metadata": {
    "colab": {
      "name": "homework3_dynamic_programming.ipynb",
      "provenance": [],
      "collapsed_sections": [],
      "authorship_tag": "ABX9TyOp1k77VZriP5+dlX8yPc8X"
    },
    "kernelspec": {
      "name": "python3",
      "display_name": "Python 3"
    },
    "language_info": {
      "name": "python"
    }
  },
  "cells": [
    {
      "cell_type": "markdown",
      "source": [
        "# Homework3 Dynamic Programming\n",
        "¶"
      ],
      "metadata": {
        "id": "3Au6r9X7PisE"
      }
    },
    {
      "cell_type": "markdown",
      "source": [
        "Adapt the editDistance function we saw in practical (copied below) to answer questions 1 and 2 below. Your function should take arguments p (pattern), t (text) and should return the edit distance of the match between P and T with the fewest edits."
      ],
      "metadata": {
        "id": "j_ysuLr_PrJs"
      }
    },
    {
      "cell_type": "code",
      "source": [
        "def editDistance(x, y):\n",
        "    # Create distance matrix\n",
        "    D = []\n",
        "    for i in range(len(x)+1):\n",
        "        D.append([0]*(len(y)+1))\n",
        "    # Initialize first row and column of matrix\n",
        "    for i in range(len(x)+1):\n",
        "        D[i][0] = i\n",
        "    for i in range(len(y)+1):\n",
        "        D[0][i] = i\n",
        "    # Fill in the rest of the matrix\n",
        "    for i in range(1, len(x)+1):\n",
        "        for j in range(1, len(y)+1):\n",
        "            distHor = D[i][j-1] + 1\n",
        "            distVer = D[i-1][j] + 1\n",
        "            if x[i-1] == y[j-1]:\n",
        "                distDiag = D[i-1][j-1]\n",
        "            else:\n",
        "                distDiag = D[i-1][j-1] + 1\n",
        "            D[i][j] = min(distHor, distVer, distDiag)\n",
        "    # Edit distance is the value in the bottom right corner of the matrix\n",
        "    return D[-1][-1]"
      ],
      "metadata": {
        "id": "wK0dmJOWPnF1"
      },
      "execution_count": 1,
      "outputs": []
    },
    {
      "cell_type": "code",
      "source": [
        "def editDistanceApproximate(P, T):\n",
        "    m, n = len(P), len(T)\n",
        "    D = [[0 for j in range(n+1)] for i in range(m+1)]\n",
        "    for i in range(m+1): \n",
        "      D[i][0] = i # init first column by distance from empty string\n",
        "        \n",
        "#   the first row is all 0s unlike edit distance, since there is no bias toward alignment\n",
        "#   of P in T from the beginning of both P and T, (ie. P can start at any index in T)\n",
        "\n",
        "#\n",
        "#   for j in range(n+1): dp[0][j] = j # DELETED!!!\n",
        "#\n",
        "\n",
        "    for i in range(1, m+1):\n",
        "        for j in range(1, n+1):\n",
        "            D[i][j] = min(\n",
        "                D[i-1][j-1] + int(P[i-1] != T[j-1]),\n",
        "                D[i-1][j] + 1,\n",
        "                D[i][j-1] + 1,\n",
        "            )\n",
        "    return min(D[m])"
      ],
      "metadata": {
        "id": "yR4LSfXobq5C"
      },
      "execution_count": 18,
      "outputs": []
    },
    {
      "cell_type": "code",
      "source": [
        "def readGenome(filename):\n",
        "    genome = ''\n",
        "    with open(filename, 'r') as f:\n",
        "        for line in f:\n",
        "            # ignore header line with genome information\n",
        "            if not line[0] == '>':\n",
        "                genome += line.rstrip()\n",
        "    return genome"
      ],
      "metadata": {
        "id": "nbMPkReXP33O"
      },
      "execution_count": 2,
      "outputs": []
    },
    {
      "cell_type": "code",
      "source": [
        "!wget https://d28rh4a8wq0iu5.cloudfront.net/ads1/data/chr1.GRCh38.excerpt.fasta"
      ],
      "metadata": {
        "id": "i33EjoNXQDE3",
        "colab": {
          "base_uri": "https://localhost:8080/"
        },
        "outputId": "20dd8bb2-675d-48a3-c585-723e69bfbe9f"
      },
      "execution_count": 4,
      "outputs": [
        {
          "output_type": "stream",
          "name": "stdout",
          "text": [
            "--2022-03-04 00:34:03--  https://d28rh4a8wq0iu5.cloudfront.net/ads1/data/chr1.GRCh38.excerpt.fasta\n",
            "Resolving d28rh4a8wq0iu5.cloudfront.net (d28rh4a8wq0iu5.cloudfront.net)... 13.32.84.231, 13.32.84.169, 13.32.84.71, ...\n",
            "Connecting to d28rh4a8wq0iu5.cloudfront.net (d28rh4a8wq0iu5.cloudfront.net)|13.32.84.231|:443... connected.\n",
            "HTTP request sent, awaiting response... 200 OK\n",
            "Length: 810105 (791K) [application/octet-stream]\n",
            "Saving to: ‘chr1.GRCh38.excerpt.fasta’\n",
            "\n",
            "chr1.GRCh38.excerpt 100%[===================>] 791.12K  --.-KB/s    in 0.1s    \n",
            "\n",
            "2022-03-04 00:34:04 (6.01 MB/s) - ‘chr1.GRCh38.excerpt.fasta’ saved [810105/810105]\n",
            "\n"
          ]
        }
      ]
    },
    {
      "cell_type": "code",
      "source": [
        "%%time\n",
        "genome = 'chr1.GRCh38.excerpt.fasta'\n",
        "\n",
        "t = readGenome(genome)\n",
        "\n",
        "# Question1\n",
        "p = 'GCTGATCGATCGTACG'\n",
        "print(editDistanceApproximate(p, t))"
      ],
      "metadata": {
        "id": "u-4BiVQdP8Qu",
        "colab": {
          "base_uri": "https://localhost:8080/"
        },
        "outputId": "38d9a8a3-d5d7-4538-b4ed-5aff759a0b92"
      },
      "execution_count": 19,
      "outputs": [
        {
          "output_type": "stream",
          "name": "stdout",
          "text": [
            "3\n",
            "CPU times: user 12.9 s, sys: 63.3 ms, total: 13 s\n",
            "Wall time: 13 s\n"
          ]
        }
      ]
    },
    {
      "cell_type": "code",
      "source": [
        "%%time\n",
        "# Question2\n",
        "p = 'GATTTACCAGATTGAG'\n",
        "print(editDistanceApproximate(p, t))"
      ],
      "metadata": {
        "id": "SaPB03YvQUXH",
        "colab": {
          "base_uri": "https://localhost:8080/"
        },
        "outputId": "7f1ac55f-74a4-446e-fbe1-aa5314ee380d"
      },
      "execution_count": 20,
      "outputs": [
        {
          "output_type": "stream",
          "name": "stdout",
          "text": [
            "2\n",
            "CPU times: user 12.8 s, sys: 36.7 ms, total: 12.8 s\n",
            "Wall time: 12.8 s\n"
          ]
        }
      ]
    },
    {
      "cell_type": "code",
      "source": [
        "def readFastq(filename):\n",
        "    sequences = []\n",
        "    qualities = []\n",
        "    with open(filename) as fh:\n",
        "        while True:\n",
        "            fh.readline()  # skip name line\n",
        "            seq = fh.readline().rstrip()  # read base sequence\n",
        "            fh.readline()  # skip placeholder line\n",
        "            qual = fh.readline().rstrip() # base quality line\n",
        "            if len(seq) == 0:\n",
        "                break\n",
        "            sequences.append(seq)\n",
        "            qualities.append(qual)\n",
        "    return sequences, qualities\n"
      ],
      "metadata": {
        "id": "g6z1YnkfQ049"
      },
      "execution_count": 7,
      "outputs": []
    },
    {
      "cell_type": "code",
      "source": [
        "def overlap(a, b, min_length=3):\n",
        "    \"\"\" Return length of longest suffix of 'a' matching\n",
        "        a prefix of 'b' that is at least 'min_length'\n",
        "        characters long.  If no such overlap exists,\n",
        "        return 0. \"\"\"\n",
        "    start = 0  # start all the way at the left\n",
        "    while True:\n",
        "        start = a.find(b[:min_length], start)  # look for b's prefix in a\n",
        "        if start == -1:  # no more occurrences to right\n",
        "            return 0\n",
        "        # found occurrence; check for full suffix/prefix match\n",
        "        if b.startswith(a[start:]):\n",
        "            return len(a)-start\n",
        "        start += 1  # move just past previous match"
      ],
      "metadata": {
        "id": "xPBx6iQgQ7YT"
      },
      "execution_count": 8,
      "outputs": []
    },
    {
      "cell_type": "code",
      "source": [
        "def smart_overlap_map(reads, k):\n",
        "    olaps = {}\n",
        "    result = {}\n",
        "    for read in reads:\n",
        "        for i in range(len(read)-k+1):\n",
        "            if read[i:i+k] not in olaps:\n",
        "                olaps[read[i:i+k]] = [read]\n",
        "            else:\n",
        "                olaps[read[i:i+k]].append(read)\n",
        "\n",
        "    count = 0\n",
        "    for read in reads:\n",
        "        read_suffix = read[-k:]\n",
        "        for possible_read in olaps[read_suffix]:\n",
        "            if possible_read != read:\n",
        "                olen = overlap(read, possible_read, k)\n",
        "                if olen > 0:\n",
        "                    count += 1\n",
        "                    result[(read, possible_read)] = olen\n",
        "\n",
        "    return result, count"
      ],
      "metadata": {
        "id": "IDsfQv2ERDLu"
      },
      "execution_count": 9,
      "outputs": []
    },
    {
      "cell_type": "code",
      "source": [
        "!wget https://d28rh4a8wq0iu5.cloudfront.net/ads1/data/ERR266411_1.for_asm.fastq"
      ],
      "metadata": {
        "colab": {
          "base_uri": "https://localhost:8080/"
        },
        "id": "rpdkfRc_WlJv",
        "outputId": "5b8c3be8-d1a6-4ab8-ccdf-1dcdda241750"
      },
      "execution_count": 13,
      "outputs": [
        {
          "output_type": "stream",
          "name": "stdout",
          "text": [
            "--2022-03-04 00:46:42--  https://d28rh4a8wq0iu5.cloudfront.net/ads1/data/ERR266411_1.for_asm.fastq\n",
            "Resolving d28rh4a8wq0iu5.cloudfront.net (d28rh4a8wq0iu5.cloudfront.net)... 13.32.84.71, 13.32.84.31, 13.32.84.169, ...\n",
            "Connecting to d28rh4a8wq0iu5.cloudfront.net (d28rh4a8wq0iu5.cloudfront.net)|13.32.84.71|:443... connected.\n",
            "HTTP request sent, awaiting response... 200 OK\n",
            "Length: 2562951 (2.4M) [application/octet-stream]\n",
            "Saving to: ‘ERR266411_1.for_asm.fastq’\n",
            "\n",
            "ERR266411_1.for_asm 100%[===================>]   2.44M  13.3MB/s    in 0.2s    \n",
            "\n",
            "2022-03-04 00:46:42 (13.3 MB/s) - ‘ERR266411_1.for_asm.fastq’ saved [2562951/2562951]\n",
            "\n"
          ]
        }
      ]
    },
    {
      "cell_type": "code",
      "source": [
        "reads_file = 'ERR266411_1.for_asm.fastq'\n",
        "reads, _ = readFastq(reads_file)\n",
        "pairs_olen, pairs_count = smart_overlap_map(reads, 30)\n",
        "\n",
        "# Question 3\n",
        "print(\"Number of pairs of reads overlap:\", pairs_count)"
      ],
      "metadata": {
        "id": "2Gx8CB7JRNMX",
        "colab": {
          "base_uri": "https://localhost:8080/"
        },
        "outputId": "79e9e6ac-4f32-4c69-ff37-66307c8c8894"
      },
      "execution_count": 16,
      "outputs": [
        {
          "output_type": "stream",
          "name": "stdout",
          "text": [
            "Number of pairs of reads overlap: 904746\n"
          ]
        }
      ]
    },
    {
      "cell_type": "code",
      "source": [
        "# Question 4\n",
        "reads_involved = []\n",
        "for key, value in pairs_olen:\n",
        "    reads_involved.append(key)\n",
        "print(\"Number of reads have a suffix involved in an overlap:\", len(set(reads_involved)))"
      ],
      "metadata": {
        "id": "bc3RyfH5RWCs",
        "colab": {
          "base_uri": "https://localhost:8080/"
        },
        "outputId": "c1ab765d-c823-4ebb-b2bb-020fb9c5dbf8"
      },
      "execution_count": 15,
      "outputs": [
        {
          "output_type": "stream",
          "name": "stdout",
          "text": [
            "Number of reads have a suffix involved in an overlap: 7161\n"
          ]
        }
      ]
    }
  ]
}