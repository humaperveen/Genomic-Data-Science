{
  "nbformat": 4,
  "nbformat_minor": 0,
  "metadata": {
    "colab": {
      "name": "practical_implementing_a_k-mer_index.ipynb",
      "provenance": [],
      "collapsed_sections": [],
      "authorship_tag": "ABX9TyMGdV9eWDn+R2fPUaKTjVuJ"
    },
    "kernelspec": {
      "name": "python3",
      "display_name": "Python 3"
    },
    "language_info": {
      "name": "python"
    }
  },
  "cells": [
    {
      "cell_type": "markdown",
      "source": [
        "# Practical: Implementing a k-mer Index"
      ],
      "metadata": {
        "id": "b0mPvjdYrUtv"
      }
    },
    {
      "cell_type": "code",
      "source": [
        "import bisect\n",
        "import sys"
      ],
      "metadata": {
        "id": "yBz_1aoIrU-W"
      },
      "execution_count": 1,
      "outputs": []
    },
    {
      "cell_type": "code",
      "source": [
        "class Index(object):\n",
        "    def __init__(self, t, k):\n",
        "        ''' Create index from all substrings of size 'length' '''\n",
        "        self.k = k  # k-mer length (k)\n",
        "        self.index = []\n",
        "        for i in range(len(t) - k + 1):  # for each k-mer\n",
        "            self.index.append((t[i:i+k], i))  # add (k-mer, offset) pair\n",
        "        self.index.sort()  # alphabetize by k-mer\n",
        "    \n",
        "    def query(self, p):\n",
        "        ''' Return index hits for first k-mer of P '''\n",
        "        kmer = p[:self.k]  # query with first k-mer\n",
        "        i = bisect.bisect_left(self.index, (kmer, -1))  # binary search\n",
        "        hits = []\n",
        "        while i < len(self.index):  # collect matching index entries\n",
        "            if self.index[i][0] != kmer:\n",
        "                break\n",
        "            hits.append(self.index[i][1])\n",
        "            i += 1\n",
        "        return hits"
      ],
      "metadata": {
        "id": "iSr1qpSyrbBO"
      },
      "execution_count": 2,
      "outputs": []
    },
    {
      "cell_type": "code",
      "source": [
        "def queryIndex(p, t, index):\n",
        "    k = index.k\n",
        "    offsets = []\n",
        "    for i in index.query(p):\n",
        "        if p[k:] == t[i+k:i+len(p)]:  # verify that rest of P matches\n",
        "            offsets.append(i)\n",
        "    return offsets"
      ],
      "metadata": {
        "id": "k4JYmsOLrepI"
      },
      "execution_count": 3,
      "outputs": []
    },
    {
      "cell_type": "code",
      "source": [
        "t = 'ACTTGGAGATCTTTGAGGCTAGGTATTCGGGATCGAAGCTCATTTCGGGGATCGATTACGATATGGTGGGTATTCGGGA'\n",
        "p = 'GGTATTCGGGA'"
      ],
      "metadata": {
        "id": "Fc5XFddyriBS"
      },
      "execution_count": 4,
      "outputs": []
    },
    {
      "cell_type": "code",
      "source": [
        "index = Index(t, 4)\n",
        "print(queryIndex(p, t, index))"
      ],
      "metadata": {
        "colab": {
          "base_uri": "https://localhost:8080/"
        },
        "id": "4OC0N5Pyrmdr",
        "outputId": "789866b6-130e-4cab-a63e-357b97a0f810"
      },
      "execution_count": 5,
      "outputs": [
        {
          "output_type": "stream",
          "name": "stdout",
          "text": [
            "[21, 68]\n"
          ]
        }
      ]
    },
    {
      "cell_type": "code",
      "source": [
        "t[21:32]"
      ],
      "metadata": {
        "colab": {
          "base_uri": "https://localhost:8080/",
          "height": 35
        },
        "id": "kk6W4HCEuhXI",
        "outputId": "1d6752ce-be60-4194-9dbd-69b6581464e0"
      },
      "execution_count": 7,
      "outputs": [
        {
          "output_type": "execute_result",
          "data": {
            "application/vnd.google.colaboratory.intrinsic+json": {
              "type": "string"
            },
            "text/plain": [
              "'GGTATTCGGGA'"
            ]
          },
          "metadata": {},
          "execution_count": 7
        }
      ]
    },
    {
      "cell_type": "code",
      "source": [
        "t[68:79]"
      ],
      "metadata": {
        "colab": {
          "base_uri": "https://localhost:8080/",
          "height": 35
        },
        "id": "R_E8PFqEuu3V",
        "outputId": "159bdef5-92c1-40ab-f31b-efb0d262cf90"
      },
      "execution_count": 8,
      "outputs": [
        {
          "output_type": "execute_result",
          "data": {
            "application/vnd.google.colaboratory.intrinsic+json": {
              "type": "string"
            },
            "text/plain": [
              "'GGTATTCGGGA'"
            ]
          },
          "metadata": {},
          "execution_count": 8
        }
      ]
    }
  ]
}