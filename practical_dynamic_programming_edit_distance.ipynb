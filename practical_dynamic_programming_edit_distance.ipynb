{
  "nbformat": 4,
  "nbformat_minor": 0,
  "metadata": {
    "colab": {
      "name": "practical_dynamic_programming_edit_distance.ipynb",
      "provenance": [],
      "collapsed_sections": [],
      "authorship_tag": "ABX9TyOl5T/uHbf1ZDA18/CojPQT"
    },
    "kernelspec": {
      "name": "python3",
      "display_name": "Python 3"
    },
    "language_info": {
      "name": "python"
    }
  },
  "cells": [
    {
      "cell_type": "markdown",
      "source": [
        "# Practical: Implementing Dynamic Programming for Edit Distance"
      ],
      "metadata": {
        "id": "INN-Ou0sUQBQ"
      }
    },
    {
      "cell_type": "code",
      "source": [
        "def editDistRecursive(x, y):\n",
        "    # This implementation is very slow\n",
        "    if len(x) == 0:\n",
        "        return len(y)\n",
        "    elif len(y) == 0:\n",
        "        return len(x)\n",
        "    else:\n",
        "        distHor = editDistRecursive(x[:-1], y) + 1\n",
        "        distVer = editDistRecursive(x, y[:-1]) + 1\n",
        "        if x[-1] == y[-1]:\n",
        "            distDiag = editDistRecursive(x[:-1], y[:-1])\n",
        "        else:\n",
        "            distDiag = editDistRecursive(x[:-1], y[:-1]) + 1\n",
        "        return min(distHor, distVer, distDiag)"
      ],
      "metadata": {
        "id": "vyeyrvBjUcjr"
      },
      "execution_count": 1,
      "outputs": []
    },
    {
      "cell_type": "code",
      "source": [
        "def editDistance(x, y):\n",
        "    # Create distance matrix\n",
        "    D = []\n",
        "    for i in range(len(x)+1):\n",
        "        D.append([0]*(len(y)+1))\n",
        "    # Initialize first row and column of matrix\n",
        "    for i in range(len(x)+1):\n",
        "        D[i][0] = i\n",
        "    for i in range(len(y)+1):\n",
        "        D[0][i] = i\n",
        "    # Fill in the rest of the matrix\n",
        "    for i in range(1, len(x)+1):\n",
        "        for j in range(1, len(y)+1):\n",
        "            distHor = D[i][j-1] + 1\n",
        "            distVer = D[i-1][j] + 1\n",
        "            if x[i-1] == y[j-1]:\n",
        "                distDiag = D[i-1][j-1]\n",
        "            else:\n",
        "                distDiag = D[i-1][j-1] + 1\n",
        "            D[i][j] = min(distHor, distVer, distDiag)\n",
        "    # Edit distance is the value in the bottom right corner of the matrix\n",
        "    return D[-1][-1]"
      ],
      "metadata": {
        "id": "oHR9jmiVUmnt"
      },
      "execution_count": 2,
      "outputs": []
    },
    {
      "cell_type": "code",
      "source": [
        "%%time\n",
        "x = 'shake spea'\n",
        "y = 'Shakespear'\n",
        "editDistRecursive(x, y)"
      ],
      "metadata": {
        "colab": {
          "base_uri": "https://localhost:8080/"
        },
        "id": "_ZAanRANUqxr",
        "outputId": "c1fbf85e-aa22-499d-f12d-006ed63a288c"
      },
      "execution_count": 3,
      "outputs": [
        {
          "output_type": "stream",
          "name": "stdout",
          "text": [
            "CPU times: user 6.27 s, sys: 3.12 ms, total: 6.28 s\n",
            "Wall time: 6.3 s\n"
          ]
        }
      ]
    },
    {
      "cell_type": "code",
      "source": [
        "%%time\n",
        "x = 'shake spea'\n",
        "y = 'Shakespear'\n",
        "editDistance(x, y)"
      ],
      "metadata": {
        "colab": {
          "base_uri": "https://localhost:8080/"
        },
        "id": "4mgorsraUxGg",
        "outputId": "5c6a1d76-007f-4119-ba80-0c400243970e"
      },
      "execution_count": 4,
      "outputs": [
        {
          "output_type": "stream",
          "name": "stdout",
          "text": [
            "CPU times: user 107 µs, sys: 0 ns, total: 107 µs\n",
            "Wall time: 110 µs\n"
          ]
        }
      ]
    }
  ]
}