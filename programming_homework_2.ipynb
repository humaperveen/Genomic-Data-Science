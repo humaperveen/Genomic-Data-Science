{
  "nbformat": 4,
  "nbformat_minor": 0,
  "metadata": {
    "colab": {
      "name": "programming_homework_2.ipynb",
      "provenance": [],
      "collapsed_sections": [],
      "mount_file_id": "1wZxfqBVc3NQiaIJiNIHjdQeI_3v4ayKg",
      "authorship_tag": "ABX9TyOZ9wumwhhaSqi2Zrzw3jJ1"
    },
    "kernelspec": {
      "name": "python3",
      "display_name": "Python 3"
    },
    "language_info": {
      "name": "python"
    }
  },
  "cells": [
    {
      "cell_type": "markdown",
      "source": [
        "# Measuring Boyer-Moore's benefit"
      ],
      "metadata": {
        "id": "F5_8MWYuBTht"
      }
    },
    {
      "cell_type": "code",
      "source": [
        "import sys\n",
        "sys.path.append('/content/drive/MyDrive/Colab Notebooks')"
      ],
      "metadata": {
        "id": "k6wAoqGhDbxF"
      },
      "execution_count": 4,
      "outputs": []
    },
    {
      "cell_type": "code",
      "source": [
        "# Import boyer moore preprocessing module\n",
        "import bm_preproc"
      ],
      "metadata": {
        "id": "tLJ1-aLRBZfW"
      },
      "execution_count": 5,
      "outputs": []
    },
    {
      "cell_type": "code",
      "source": [
        "!wget http://d28rh4a8wq0iu5.cloudfront.net/ads1/data/chr1.GRCh38.excerpt.fasta"
      ],
      "metadata": {
        "colab": {
          "base_uri": "https://localhost:8080/"
        },
        "id": "Qbd79d3XDyk6",
        "outputId": "5ad21303-2e75-4dd0-81aa-4824d4e97365"
      },
      "execution_count": 6,
      "outputs": [
        {
          "output_type": "stream",
          "name": "stdout",
          "text": [
            "--2022-03-03 13:54:57--  http://d28rh4a8wq0iu5.cloudfront.net/ads1/data/chr1.GRCh38.excerpt.fasta\n",
            "Resolving d28rh4a8wq0iu5.cloudfront.net (d28rh4a8wq0iu5.cloudfront.net)... 13.226.220.151, 13.226.220.77, 13.226.220.74, ...\n",
            "Connecting to d28rh4a8wq0iu5.cloudfront.net (d28rh4a8wq0iu5.cloudfront.net)|13.226.220.151|:80... connected.\n",
            "HTTP request sent, awaiting response... 200 OK\n",
            "Length: 810105 (791K) [application/octet-stream]\n",
            "Saving to: ‘chr1.GRCh38.excerpt.fasta’\n",
            "\n",
            "chr1.GRCh38.excerpt 100%[===================>] 791.12K  2.24MB/s    in 0.3s    \n",
            "\n",
            "2022-03-03 13:54:58 (2.24 MB/s) - ‘chr1.GRCh38.excerpt.fasta’ saved [810105/810105]\n",
            "\n"
          ]
        }
      ]
    },
    {
      "cell_type": "code",
      "source": [
        "# parses a DNA reference genome from a file in the FASTA format.\n",
        "def readGenome(filename):\n",
        "    genome = ''\n",
        "    with open(filename, 'r') as f:\n",
        "        for line in f:\n",
        "            # ignore header line with genome information\n",
        "            if not line[0] == '>':\n",
        "                genome += line.rstrip()\n",
        "    return genome"
      ],
      "metadata": {
        "id": "4xUg4s56E2r8"
      },
      "execution_count": 7,
      "outputs": []
    },
    {
      "cell_type": "code",
      "source": [
        "# Naive exact matching that additionally count and return (a) the number of character comparisons performed and (b) the number of alignments tried.\n",
        "def naive_with_counts(p, t):\n",
        "    occurrences = []\n",
        "    num_alignments = 0\n",
        "    num_character_comparisons = 0\n",
        "    for i in range(len(t) - len(p) + 1):  # loop over alignments\n",
        "        num_alignments += 1\n",
        "        match = True\n",
        "        for j in range(len(p)):  # loop over characters\n",
        "            num_character_comparisons += 1\n",
        "            if t[i+j] != p[j]:  # compare characters\n",
        "                match = False\n",
        "                break\n",
        "        if match:\n",
        "            occurrences.append(i)  # all chars matched; record\n",
        "    return occurrences, num_alignments, num_character_comparisons"
      ],
      "metadata": {
        "id": "1NdiC3inFKxH"
      },
      "execution_count": 29,
      "outputs": []
    },
    {
      "cell_type": "code",
      "source": [
        "# Boyer-Moore algorithms that additionally count and return (a) the number of character comparisons performed and (b) the number of alignments tried.\n",
        "def boyer_moore_with_counts(p, p_bm, t):\n",
        "    \"\"\" Do Boyer-Moore matching. p=pattern, t=text,\n",
        "        p_bm=BoyerMoore object for p \"\"\"\n",
        "    i = 0\n",
        "    occurrences = []\n",
        "    num_alignments = 0\n",
        "    num_character_comparisons = 0\n",
        "    while i < len(t) - len(p) + 1:\n",
        "        num_alignments += 1\n",
        "        shift = 1\n",
        "        mismatched = False\n",
        "        for j in range(len(p)-1, -1, -1):\n",
        "            num_character_comparisons += 1\n",
        "            if p[j] != t[i+j]:\n",
        "                skip_bc = p_bm.bad_character_rule(j, t[i+j])\n",
        "                skip_gs = p_bm.good_suffix_rule(j)\n",
        "                shift = max(shift, skip_bc, skip_gs)\n",
        "                mismatched = True\n",
        "                break\n",
        "        if not mismatched:\n",
        "            occurrences.append(i)\n",
        "            skip_gs = p_bm.match_skip()\n",
        "            shift = max(shift, skip_gs)\n",
        "        i += shift\n",
        "    return occurrences, num_alignments, num_character_comparisons"
      ],
      "metadata": {
        "id": "xlBVIqTIFja9"
      },
      "execution_count": 30,
      "outputs": []
    },
    {
      "cell_type": "markdown",
      "source": [
        "# Approximate Matching with Boyer Moore\n"
      ],
      "metadata": {
        "id": "Kf9C4wkKGzTd"
      }
    },
    {
      "cell_type": "code",
      "source": [
        "#\n",
        "# Practical: partial matching algroithm implementation using an exact matching algorithm (Boyer-Moore)\n",
        "# combined with the pigeon hole principle to allow up to n mismatches of pattern in text\n",
        "#\n",
        "def approximate_match_boyer_moore(p, t, n):\n",
        "    segment_length = int(round(len(p) // (n+1)))\n",
        "    all_matches = set()\n",
        "    for i in range(n+1):\n",
        "        start = i * segment_length\n",
        "        end = min((i+1) * segment_length, len(p))\n",
        "        p_bm = BoyerMoore(p[start:end], alphabet='ACGT')\n",
        "        matches, _, _ = boyer_moore(p[start:end], p_bm, t)\n",
        "        for m in matches:\n",
        "            #\n",
        "            # Question: why is text offset equal to the matched position minus start of current segment?\n",
        "            #\n",
        "            # Answer: this is beacuse 'start' is the n-th segment offset within p, so we are basically aligning pattern within text based on the n-th exact matching segment\n",
        "            # so text offset from T's perspective is where P would begin to align within T.\n",
        "            #\n",
        "            # Example:\n",
        "            #\n",
        "            #       01234567\n",
        "            #   T = ABCDEFG\n",
        "            #   P =   CDEF\n",
        "            #   N = 1\n",
        "            #\n",
        "            # since N = 1, then N + 1 = 2, thus P is split into 2 partitions CD and EF\n",
        "            # the first partition:  CD matches T at m = 2, the start of partition CD is 0, so P aligns with T at m = 2 - 0 = 2\n",
        "            # the second partition: EF matches T at m = 4, the start of partition EF is 2, so P aligns with T at m = 4 - 2 = 2\n",
        "            # thus for each match in a k-th partition, P aligns at same offset m within T ( ie. offset 2 for this example )\n",
        "            #\n",
        "            text_offset = m - start\n",
        "            if text_offset < 0 or (text_offset + len(p)) > len(t):\n",
        "                continue\n",
        "            mismatches = 0\n",
        "            for j in range(0, start):\n",
        "                if not p[j] == t[text_offset + j]:\n",
        "                    mismatches += 1\n",
        "                    if mismatches > n:\n",
        "                        break\n",
        "            for j in range(end, len(p)):\n",
        "                if not p[j] == t[text_offset + j]:\n",
        "                    mismatches += 1\n",
        "                    if mismatches > n:\n",
        "                        break\n",
        "            if mismatches <= n:\n",
        "                all_matches.add(text_offset)\n",
        "    return list(all_matches)"
      ],
      "metadata": {
        "id": "6fmTdFOlGxMf"
      },
      "execution_count": 28,
      "outputs": []
    },
    {
      "cell_type": "markdown",
      "source": [
        "# Approximate Matching with Indexing"
      ],
      "metadata": {
        "id": "0aXptzv0HeGT"
      }
    },
    {
      "cell_type": "code",
      "source": [
        "# a Python class called Index implementing an ordered-list version of the k-mer index.\n",
        "import bisect\n",
        "class Index(object):\n",
        "    def __init__(self, t, k):\n",
        "        ''' Create index from all substrings of size 'length' '''\n",
        "        self.k = k  # k-mer length (k)\n",
        "        self.index = []\n",
        "        for i in range(len(t) - k + 1):  # for each k-mer\n",
        "            self.index.append((t[i:i+k], i))  # add (k-mer, offset) pair\n",
        "        self.index.sort()  # alphabetize by k-mer\n",
        "    \n",
        "    def query(self, p):\n",
        "        ''' Return index hits for first k-mer of P '''\n",
        "        kmer = p[:self.k]  # query with first k-mer\n",
        "        i = bisect.bisect_left(self.index, (kmer, -1))  # binary search\n",
        "        hits = []\n",
        "        while i < len(self.index):  # collect matching index entries\n",
        "            if self.index[i][0] != kmer:\n",
        "                break\n",
        "            hits.append(self.index[i][1])\n",
        "            i += 1\n",
        "        return hits"
      ],
      "metadata": {
        "id": "PaluNHikZpMK"
      },
      "execution_count": 41,
      "outputs": []
    },
    {
      "cell_type": "code",
      "source": [
        "#\n",
        "# partial matching algroithm implementation using an exact matching algorithm (Indexing)\n",
        "# combined with the pigeon hole principle to allow up to n mismatches of pattern in text\n",
        "#\n",
        "def approximate_match_index(p, t, n):\n",
        "    segment_length = int(round(len(p) // (n+1)))\n",
        "    hits = 0\n",
        "    all_matches = set()\n",
        "    index = Index(t, 8) # built on 8-mers\n",
        "    for i in range(n+1):\n",
        "        start = i * segment_length\n",
        "        end = min((i+1) * segment_length, len(p))\n",
        "        matches = index.query(p[start:end])\n",
        "        hits += len(matches)\n",
        "        for m in matches:\n",
        "            text_offset = m - start\n",
        "            if text_offset < 0 or (text_offset + len(p)) > len(t):\n",
        "                continue\n",
        "            mismatches = 0\n",
        "            for j in range(0, start):\n",
        "                if not p[j] == t[text_offset + j]:\n",
        "                    mismatches += 1\n",
        "                    if mismatches > n:\n",
        "                        break\n",
        "            for j in range(end, len(p)):\n",
        "                if not p[j] == t[text_offset + j]:\n",
        "                    mismatches += 1\n",
        "                    if mismatches > n:\n",
        "                        break\n",
        "            if mismatches <= n:\n",
        "                all_matches.add(text_offset)\n",
        "    return list(all_matches), hits"
      ],
      "metadata": {
        "id": "i-CCusfAHcwZ"
      },
      "execution_count": 49,
      "outputs": []
    },
    {
      "cell_type": "markdown",
      "source": [
        "# Approximate Matching with Subsequence Indexing"
      ],
      "metadata": {
        "id": "kUIn8ntDHkSZ"
      }
    },
    {
      "cell_type": "code",
      "source": [
        "# The following class \\verb|SubseqIndex|SubseqIndex is a more general implementation of Index that additionally handles subsequences. \n",
        "# It only considers subsequences that take every Nth character:\n",
        "import bisect\n",
        "   \n",
        "class SubseqIndex(object):\n",
        "    \"\"\" Holds a subsequence index for a text T \"\"\"\n",
        "    \n",
        "    def __init__(self, t, k, ival):\n",
        "        \"\"\" Create index from all subsequences consisting of k characters\n",
        "            spaced ival positions apart.  E.g., SubseqIndex(\"ATAT\", 2, 2)\n",
        "            extracts (\"AA\", 0) and (\"TT\", 1). \"\"\"\n",
        "        self.k = k  # num characters per subsequence extracted\n",
        "        self.ival = ival  # space between them; 1=adjacent, 2=every other, etc\n",
        "        self.index = []\n",
        "        self.span = 1 + ival * (k - 1)\n",
        "        for i in range(len(t) - self.span + 1):  # for each subseq\n",
        "            self.index.append((t[i:i+self.span:ival], i))  # add (subseq, offset)\n",
        "        self.index.sort()  # alphabetize by subseq\n",
        "    \n",
        "    def query(self, p):\n",
        "        \"\"\" Return index hits for first subseq of p \"\"\"\n",
        "        subseq = p[:self.span:self.ival]  # query with first subseq\n",
        "        i = bisect.bisect_left(self.index, (subseq, -1))  # binary search\n",
        "        hits = []\n",
        "        while i < len(self.index):  # collect matching index entries\n",
        "            if self.index[i][0] != subseq:\n",
        "                break\n",
        "            hits.append(self.index[i][1])\n",
        "            i += 1\n",
        "        return hits\n"
      ],
      "metadata": {
        "id": "6ZPfK9KwjjNv"
      },
      "execution_count": 60,
      "outputs": []
    },
    {
      "cell_type": "code",
      "source": [
        "# example \n",
        "ind = SubseqIndex('ATATAT', 3, 2)\n",
        "print(ind.index)"
      ],
      "metadata": {
        "colab": {
          "base_uri": "https://localhost:8080/"
        },
        "id": "rCWkFKnskHnz",
        "outputId": "6b5450d3-306d-4fb3-f891-b046153b40c1"
      },
      "execution_count": 61,
      "outputs": [
        {
          "output_type": "stream",
          "name": "stdout",
          "text": [
            "[('AAA', 0), ('TTT', 1)]\n"
          ]
        }
      ]
    },
    {
      "cell_type": "code",
      "source": [
        "# p = 'TTATAT' # we will get [] when we run because the subsequence TAA is not in the index. But if we query with the second subsequence:\n",
        "print(ind.query(p[0:]))\n"
      ],
      "metadata": {
        "colab": {
          "base_uri": "https://localhost:8080/"
        },
        "id": "Au_aLSLCkSRb",
        "outputId": "fb6d8cac-8459-409f-fe42-1106b7b97789"
      },
      "execution_count": 62,
      "outputs": [
        {
          "output_type": "stream",
          "name": "stdout",
          "text": [
            "[]\n"
          ]
        }
      ]
    },
    {
      "cell_type": "code",
      "source": [
        "print(ind.query(p[1:])) # because the second subsequence TTT is in the index."
      ],
      "metadata": {
        "colab": {
          "base_uri": "https://localhost:8080/"
        },
        "id": "XO-0irdakq6q",
        "outputId": "7e7e34fd-861a-4e8e-e775-555a45d59658"
      },
      "execution_count": 64,
      "outputs": [
        {
          "output_type": "stream",
          "name": "stdout",
          "text": [
            "[]\n"
          ]
        }
      ]
    },
    {
      "cell_type": "code",
      "source": [
        "#\n",
        "# partial matching algroithm implementation using an exact matching algorithm (Subsequence Indexing)\n",
        "# combined with the pigeon hole principle to allow up to k mismatches of pattern in text\n",
        "#\n",
        "# note: in this solution, the partitions overlap ( ie. every 3rd subsequence interval, 123123123 )\n",
        "# compared to the previous solutions where each partition has a unique, non-overlapping start/end\n",
        "# ( ie. every 3rd chunk, 111222333 )\n",
        "#\n",
        "def approximate_match_subseq_index(p, t, n):\n",
        "    segment_length = int(round(len(p) // (n+1)))\n",
        "    hits = 0\n",
        "    all_matches = set()\n",
        "    index = SubseqIndex(t, 8, 3) # built on 8-mers and subsequence intervals of 3\n",
        "    for start in range(n+1):\n",
        "        matches = index.query(p[start:])\n",
        "        hits += len(matches)\n",
        "        for m in matches:\n",
        "            text_offset = m - start\n",
        "            if text_offset < 0 or (text_offset + len(p)) > len(t):\n",
        "                continue\n",
        "            mismatches = 0\n",
        "            for j in range(0, len(p)):\n",
        "                if not p[j] == t[text_offset + j]:\n",
        "                    mismatches += 1\n",
        "                    if mismatches > n:\n",
        "                        break\n",
        "            if mismatches <= n:\n",
        "                all_matches.add(text_offset)\n",
        "    return list(all_matches), hits"
      ],
      "metadata": {
        "id": "gds36izyHooI"
      },
      "execution_count": 48,
      "outputs": []
    },
    {
      "cell_type": "code",
      "source": [
        "chr1_genome = readGenome('chr1.GRCh38.excerpt.fasta')"
      ],
      "metadata": {
        "id": "egpulgJuIf3V"
      },
      "execution_count": 14,
      "outputs": []
    },
    {
      "cell_type": "code",
      "source": [
        "# Example 1\n",
        "\n",
        "p = 'word'\n",
        "t = 'there would have been a time for such a word'\n",
        "occurrences, num_alignments, num_character_comparisons = naive_with_counts(p, t)\n",
        "print(occurrences, num_alignments, num_character_comparisons)"
      ],
      "metadata": {
        "colab": {
          "base_uri": "https://localhost:8080/"
        },
        "id": "-2lxjbYdLVdU",
        "outputId": "ba16f004-5142-4019-e921-b8e89ccc5fa2"
      },
      "execution_count": 31,
      "outputs": [
        {
          "output_type": "stream",
          "name": "stdout",
          "text": [
            "[40] 41 46\n"
          ]
        }
      ]
    },
    {
      "cell_type": "code",
      "source": [
        "# Example 2\n",
        "p = 'needle'\n",
        "t = 'needle need noodle needle'\n",
        "occurrences, num_alignments, num_character_comparisons = naive_with_counts(p, t)\n",
        "print(occurrences, num_alignments, num_character_comparisons)"
      ],
      "metadata": {
        "colab": {
          "base_uri": "https://localhost:8080/"
        },
        "id": "_RezVW5hMlli",
        "outputId": "21ae7241-fd67-4673-8354-1400e0afedaf"
      },
      "execution_count": 32,
      "outputs": [
        {
          "output_type": "stream",
          "name": "stdout",
          "text": [
            "[0, 19] 20 35\n"
          ]
        }
      ]
    },
    {
      "cell_type": "code",
      "source": [
        "from bm_preproc import BoyerMoore\n",
        "# Example 1\n",
        "p = 'word'\n",
        "t = 'there would have been a time for such a word'\n",
        "lowercase_alphabet = 'abcdefghijklmnopqrstuvwxyz '\n",
        "p_bm = BoyerMoore(p, lowercase_alphabet)\n",
        "occurrences, num_alignments, num_character_comparisons = boyer_moore_with_counts(p, p_bm, t)\n",
        "print(occurrences, num_alignments, num_character_comparisons)"
      ],
      "metadata": {
        "colab": {
          "base_uri": "https://localhost:8080/"
        },
        "id": "F5eZVNzFNI5h",
        "outputId": "3478a505-ab9f-4d31-c961-2fbdb7455175"
      },
      "execution_count": 33,
      "outputs": [
        {
          "output_type": "stream",
          "name": "stdout",
          "text": [
            "[40] 12 15\n"
          ]
        }
      ]
    },
    {
      "cell_type": "code",
      "source": [
        "# Example 2\n",
        "p = 'needle'\n",
        "t = 'needle need noodle needle'\n",
        "p_bm = BoyerMoore(p, lowercase_alphabet)\n",
        "occurrences, num_alignments, num_character_comparisons = boyer_moore_with_counts(p, p_bm, t)\n",
        "print(occurrences, num_alignments, num_character_comparisons)"
      ],
      "metadata": {
        "colab": {
          "base_uri": "https://localhost:8080/"
        },
        "id": "VEP_0JCvNsvD",
        "outputId": "fcb856f9-8e70-4a7a-c095-369f67cf45aa"
      },
      "execution_count": 34,
      "outputs": [
        {
          "output_type": "stream",
          "name": "stdout",
          "text": [
            "[0, 19] 5 18\n"
          ]
        }
      ]
    },
    {
      "cell_type": "code",
      "source": [
        "# Question 1\n",
        "# How many alignments does the naive exact matching algorithm try when matching the string 'GGCGCGGTGGCTCACGCCTGTAATCCCAGCACTTTGGGAGGCCGAGG' \n",
        "# (derived from human Alu sequences) to the excerpt of human chromosome 1?  (Don't consider reverse complements.)\n",
        "\n",
        "# Question 2\n",
        "# How many character comparisons does the naive exact matching algorithm try when matching the string 'GGCGCGGTGGCTCACGCCTGTAATCCCAGCACTTTGGGAGGCCGAGG' \n",
        "# (derived from human Alu sequences) to the excerpt of human chromosome 1?  (Don't consider reverse complements.)\n",
        "p = 'GGCGCGGTGGCTCACGCCTGTAATCCCAGCACTTTGGGAGGCCGAGG'\n",
        "t = chr1_genome\n",
        "occurrences, num_alignments, num_character_comparisons = naive_with_counts(p, t)\n",
        "print(occurrences, num_alignments, num_character_comparisons)"
      ],
      "metadata": {
        "colab": {
          "base_uri": "https://localhost:8080/"
        },
        "id": "KJHJSvpGVkPR",
        "outputId": "b1a2163c-f6cd-45b6-ab24-f9ce082a47fa"
      },
      "execution_count": 35,
      "outputs": [
        {
          "output_type": "stream",
          "name": "stdout",
          "text": [
            "[56922] 799954 984143\n"
          ]
        }
      ]
    },
    {
      "cell_type": "code",
      "source": [
        "# Question 3 \n",
        "# How many alignments does Boyer-Moore try when matching the string 'GGCGCGGTGGCTCACGCCTGTAATCCCAGCACTTTGGGAGGCCGAGG' \n",
        "# (derived from human Alu sequences) to the excerpt of human chromosome 1?  (Don't consider reverse complements.)\n",
        "p = 'GGCGCGGTGGCTCACGCCTGTAATCCCAGCACTTTGGGAGGCCGAGG'\n",
        "t = chr1_genome\n",
        "p_bm = BoyerMoore(p, alphabet='ACGT')\n",
        "occurrences, num_alignments, num_character_comparisons = boyer_moore_with_counts(p, p_bm, t)\n",
        "print(occurrences, num_alignments, num_character_comparisons)"
      ],
      "metadata": {
        "colab": {
          "base_uri": "https://localhost:8080/"
        },
        "id": "xDZifwU_WvRs",
        "outputId": "641d81dc-8c62-45f6-a1d2-896a485e1c5a"
      },
      "execution_count": 36,
      "outputs": [
        {
          "output_type": "stream",
          "name": "stdout",
          "text": [
            "[56922] 127974 165191\n"
          ]
        }
      ]
    },
    {
      "cell_type": "code",
      "source": [
        "# Question 4\n",
        "# How many times does the string 'GGCGCGGTGGCTCACGCCTGTAAT', \n",
        "# which is derived from a human Alu sequence, occur with up to 2 substitutions in the excerpt of human chromosome 1?  (Don't consider reverse complements here.)\n",
        "\n",
        "# Question 5\n",
        "# Using the instructions given in Question 4, how many total index hits are there when searching for occurrences of 'GGCGCGGTGGCTCACGCCTGTAAT' with up to 2 substitutions in the excerpt of human chromosome 1?\n",
        "# (Don't consider reverse complements.)\n",
        "\n",
        "\n",
        "p = 'GGCGCGGTGGCTCACGCCTGTAAT'\n",
        "t = chr1_genome\n",
        "n = 2\n",
        "all_matches, hits = approximate_match_index(p, t, n)\n",
        "print(all_matches, hits)"
      ],
      "metadata": {
        "colab": {
          "base_uri": "https://localhost:8080/"
        },
        "id": "TiD4QDCwa5dV",
        "outputId": "e77c8d54-84b1-4bff-afcf-c092dc3b5e58"
      },
      "execution_count": 51,
      "outputs": [
        {
          "output_type": "stream",
          "name": "stdout",
          "text": [
            "[273669, 681737, 717706, 262042, 635931, 84641, 160162, 724927, 657496, 160729, 56922, 191452, 551134, 747359, 421221, 147558, 364263, 465647, 429299] 90\n"
          ]
        }
      ]
    },
    {
      "cell_type": "code",
      "source": [
        "# naive exact matching algorithm\n",
        "# Returns a list of occurrences (offset)\n",
        "def naive_2mm(p, t):\n",
        "    occurrences = []\n",
        "\n",
        "    for i in range(len(t) - len(p) + 1):  # loop over alignments\n",
        "        match = True\n",
        "        mismatch_count = 0\n",
        "        for j in range(len(p)):  # loop over characters\n",
        "            if t[i+j] != p[j]:  # compare characters\n",
        "                mismatch_count+=1\n",
        "\n",
        "                if mismatch_count > 2:\n",
        "                \tmatch = False\n",
        "                \tbreak\n",
        "        if match:\n",
        "            occurrences.append(i)  # all chars matched; record\n",
        "    return occurrences"
      ],
      "metadata": {
        "id": "NKO7WftVe__y"
      },
      "execution_count": 52,
      "outputs": []
    },
    {
      "cell_type": "code",
      "source": [
        "# cross check question 4 with naive_2mm function \n",
        "p = 'GGCGCGGTGGCTCACGCCTGTAAT'\n",
        "t = chr1_genome\n",
        "occurrences = naive_2mm(p,t)\n",
        "print(occurrences)"
      ],
      "metadata": {
        "colab": {
          "base_uri": "https://localhost:8080/"
        },
        "id": "uXvmoMiQgDYu",
        "outputId": "d6a40e81-6cd8-44e0-f96f-90cbee3abc87"
      },
      "execution_count": 57,
      "outputs": [
        {
          "output_type": "stream",
          "name": "stdout",
          "text": [
            "[56922, 84641, 147558, 160162, 160729, 191452, 262042, 273669, 364263, 421221, 429299, 465647, 551134, 635931, 657496, 681737, 717706, 724927, 747359]\n"
          ]
        }
      ]
    },
    {
      "cell_type": "code",
      "source": [
        "# Question 5\n",
        "# Hint: You should be able to use the 'boyer_moore' function (or the slower 'naive' function) to double-check your answer.\n",
        "\n",
        "p = 'GGCGCGGTGGCTCACGCCTGTAAT'\n",
        "t = chr1_genome\n",
        "occurrences, num_alignments, num_character_comparisons = naive_with_counts(p, t)\n",
        "print(occurrences, num_alignments, num_character_comparisons)"
      ],
      "metadata": {
        "colab": {
          "base_uri": "https://localhost:8080/"
        },
        "id": "PRh9oQCwili7",
        "outputId": "bec87341-f936-4bc4-b904-600d57e555a2"
      },
      "execution_count": 58,
      "outputs": [
        {
          "output_type": "stream",
          "name": "stdout",
          "text": [
            "[56922, 262042, 364263, 657496, 717706] 799977 984116\n"
          ]
        }
      ]
    },
    {
      "cell_type": "code",
      "source": [
        "# Question 5\n",
        "# Hint: You should be able to use the 'boyer_moore' function (or the slower 'naive' function) to double-check your answer.\n",
        "\n",
        "p = 'GGCGCGGTGGCTCACGCCTGTAAT'\n",
        "t = chr1_genome\n",
        "p_bm = BoyerMoore(p, alphabet='ACGT')\n",
        "occurrences, num_alignments, num_character_comparisons = boyer_moore_with_counts(p, p_bm, t)\n",
        "print(occurrences, num_alignments, num_character_comparisons)"
      ],
      "metadata": {
        "colab": {
          "base_uri": "https://localhost:8080/"
        },
        "id": "D14kAnoujBXq",
        "outputId": "7b28fcbd-5e0d-4b93-a5c8-967d90f6f5b7"
      },
      "execution_count": 59,
      "outputs": [
        {
          "output_type": "stream",
          "name": "stdout",
          "text": [
            "[56922, 262042, 364263, 657496, 717706] 126203 196873\n"
          ]
        }
      ]
    },
    {
      "cell_type": "code",
      "source": [
        "# Question 6\n",
        "# Write a function that, given a length-24 pattern P and given a SubseqIndex object built with k = 8 and ival = 3, finds all approximate occurrences of P within T with up to 2 mismatches.\n",
        "# When using this function, how many total index hits are there when searching for GGCGCGGTGGCTCACGCCTGTAAT with up to 2 substitutions in the excerpt of human chromosome 1?  (Again, don't consider reverse complements.)\n",
        "p = 'GGCGCGGTGGCTCACGCCTGTAAT'\n",
        "t = chr1_genome\n",
        "n = 2\n",
        "all_matches, hits = approximate_match_subseq_index(p, t, n)\n",
        "print(all_matches, hits)"
      ],
      "metadata": {
        "colab": {
          "base_uri": "https://localhost:8080/"
        },
        "id": "T0LDW1wWlMFY",
        "outputId": "044f1543-1fbf-46e9-f022-acd207e31b2a"
      },
      "execution_count": 65,
      "outputs": [
        {
          "output_type": "stream",
          "name": "stdout",
          "text": [
            "[273669, 681737, 717706, 262042, 635931, 84641, 160162, 724927, 657496, 160729, 56922, 191452, 551134, 747359, 421221, 147558, 364263, 465647, 429299] 79\n"
          ]
        }
      ]
    }
  ]
}