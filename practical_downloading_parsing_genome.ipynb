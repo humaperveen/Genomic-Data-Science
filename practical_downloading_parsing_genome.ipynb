{
  "nbformat": 4,
  "nbformat_minor": 0,
  "metadata": {
    "colab": {
      "name": "practical_downloading_parsing_genome.ipynb",
      "provenance": [],
      "collapsed_sections": [],
      "authorship_tag": "ABX9TyNKcxk4RT19dWiyqhdP6p7I"
    },
    "kernelspec": {
      "name": "python3",
      "display_name": "Python 3"
    },
    "language_info": {
      "name": "python"
    }
  },
  "cells": [
    {
      "cell_type": "markdown",
      "source": [
        "# Downloading and Parsing a Genome"
      ],
      "metadata": {
        "id": "Q8EYK-Y-7lF9"
      }
    },
    {
      "cell_type": "code",
      "source": [
        "# Following line downloads FASTA file containing the lambda phage reference genome\n",
        "!wget --no-check http://d28rh4a8wq0iu5.cloudfront.net/ads1/data/lambda_virus.fa"
      ],
      "metadata": {
        "colab": {
          "base_uri": "https://localhost:8080/"
        },
        "id": "5FPjngtU7sJ6",
        "outputId": "a852f152-bb07-4c90-dd32-8c502fdcb901"
      },
      "execution_count": 1,
      "outputs": [
        {
          "output_type": "stream",
          "name": "stdout",
          "text": [
            "--2022-03-01 18:33:02--  http://d28rh4a8wq0iu5.cloudfront.net/ads1/data/lambda_virus.fa\n",
            "Resolving d28rh4a8wq0iu5.cloudfront.net (d28rh4a8wq0iu5.cloudfront.net)... 108.156.105.108, 108.156.105.8, 108.156.105.76, ...\n",
            "Connecting to d28rh4a8wq0iu5.cloudfront.net (d28rh4a8wq0iu5.cloudfront.net)|108.156.105.108|:80... connected.\n",
            "HTTP request sent, awaiting response... 200 OK\n",
            "Length: 49270 (48K) [application/octet-stream]\n",
            "Saving to: ‘lambda_virus.fa’\n",
            "\n",
            "lambda_virus.fa     100%[===================>]  48.12K  --.-KB/s    in 0.02s   \n",
            "\n",
            "2022-03-01 18:33:02 (2.06 MB/s) - ‘lambda_virus.fa’ saved [49270/49270]\n",
            "\n"
          ]
        }
      ]
    },
    {
      "cell_type": "code",
      "source": [
        "def readGenome(filename):\n",
        "    genome = ''\n",
        "    with open(filename, 'r') as f:\n",
        "        for line in f:\n",
        "            # ignore header line with genome information\n",
        "            if not line[0] == '>':\n",
        "                genome += line.rstrip()    # rstrip() remove any whitespaces and new line at the end of string\n",
        "    return genome\n",
        "genome = readGenome('lambda_virus.fa')\n",
        "genome[:100]"
      ],
      "metadata": {
        "colab": {
          "base_uri": "https://localhost:8080/",
          "height": 35
        },
        "id": "Hx_WqZIYweiy",
        "outputId": "a098611f-cea6-4d22-d316-ea855c885191"
      },
      "execution_count": 2,
      "outputs": [
        {
          "output_type": "execute_result",
          "data": {
            "application/vnd.google.colaboratory.intrinsic+json": {
              "type": "string"
            },
            "text/plain": [
              "'GGGCGGCGACCTCGCGGGTTTTCGCTATTTATGAAAATTTTCCGGTTTAAGGCGTTTCCGTTCTTCTTCGTCATAACTTAATGTTTTTATTTAAAATACC'"
            ]
          },
          "metadata": {},
          "execution_count": 2
        }
      ]
    },
    {
      "cell_type": "code",
      "source": [
        "# length of lambda phase genome.\n",
        "len(genome)"
      ],
      "metadata": {
        "colab": {
          "base_uri": "https://localhost:8080/"
        },
        "id": "3Urj1Pcryj_1",
        "outputId": "ba1ed760-4670-4982-ba1b-21b6ff5adb27"
      },
      "execution_count": 3,
      "outputs": [
        {
          "output_type": "execute_result",
          "data": {
            "text/plain": [
              "48502"
            ]
          },
          "metadata": {},
          "execution_count": 3
        }
      ]
    },
    {
      "cell_type": "code",
      "source": [
        "# Count the number of occurences of each base\n",
        "# create a counts dictionary where keys are bases and values are occurance(repeat) for that base \n",
        "counts = {'A': 0, 'C': 0, 'G': 0, 'T': 0}\n",
        "for base in genome:\n",
        "    counts[base] += 1\n",
        "print(counts)"
      ],
      "metadata": {
        "colab": {
          "base_uri": "https://localhost:8080/"
        },
        "id": "-FwH-oRGwjCc",
        "outputId": "862473de-0d70-40b2-8bd6-4aa0b9f8a4ba"
      },
      "execution_count": 4,
      "outputs": [
        {
          "output_type": "stream",
          "name": "stdout",
          "text": [
            "{'A': 12334, 'C': 11362, 'G': 12820, 'T': 11986}\n"
          ]
        }
      ]
    },
    {
      "cell_type": "code",
      "source": [
        "# we can also do the same with counter object of collections module\n",
        "import collections\n",
        "collections.Counter(genome)"
      ],
      "metadata": {
        "colab": {
          "base_uri": "https://localhost:8080/"
        },
        "id": "nMFe_cljwnAu",
        "outputId": "2edc987f-68dd-4369-bb5c-2b1151c5807f"
      },
      "execution_count": 5,
      "outputs": [
        {
          "output_type": "execute_result",
          "data": {
            "text/plain": [
              "Counter({'A': 12334, 'C': 11362, 'G': 12820, 'T': 11986})"
            ]
          },
          "metadata": {},
          "execution_count": 5
        }
      ]
    }
  ]
}