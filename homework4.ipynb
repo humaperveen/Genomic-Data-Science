{
  "nbformat": 4,
  "nbformat_minor": 0,
  "metadata": {
    "colab": {
      "name": "homework4.ipynb",
      "provenance": [],
      "collapsed_sections": [],
      "authorship_tag": "ABX9TyM2tBIOojmxeKJfUti2bgbd",
      "include_colab_link": true
    },
    "kernelspec": {
      "name": "python3",
      "display_name": "Python 3"
    },
    "language_info": {
      "name": "python"
    }
  },
  "cells": [
    {
      "cell_type": "markdown",
      "metadata": {
        "id": "view-in-github",
        "colab_type": "text"
      },
      "source": [
        "<a href=\"https://colab.research.google.com/github/humaperveen/Genomic-Data-Science/blob/week4/homework4.ipynb\" target=\"_parent\"><img src=\"https://colab.research.google.com/assets/colab-badge.svg\" alt=\"Open In Colab\"/></a>"
      ]
    },
    {
      "cell_type": "markdown",
      "source": [
        "# Programming Homework 4"
      ],
      "metadata": {
        "id": "UL9b_gXaSf4c"
      }
    },
    {
      "cell_type": "markdown",
      "source": [
        "In a practical, we saw the scs function (copied below along with overlap) for finding the shortest common superstring of a set of strings."
      ],
      "metadata": {
        "id": "HpuqckKZSlwu"
      }
    },
    {
      "cell_type": "code",
      "source": [
        "def overlap(a, b, min_length=3):\n",
        "    \"\"\" Return length of longest suffix of 'a' matching\n",
        "        a prefix of 'b' that is at least 'min_length'\n",
        "        characters long.  If no such overlap exists,\n",
        "        return 0. \"\"\"\n",
        "    start = 0  # start all the way at the left\n",
        "    while True:\n",
        "        start = a.find(b[:min_length], start)  # look for b's suffx in a\n",
        "        if start == -1:  # no more occurrences to right\n",
        "            return 0\n",
        "        # found occurrence; check for full suffix/prefix match\n",
        "        if b.startswith(a[start:]):\n",
        "            return len(a)-start\n",
        "        start += 1  # move just past previous match"
      ],
      "metadata": {
        "id": "Oyi2WE6XSj1D"
      },
      "execution_count": 1,
      "outputs": []
    },
    {
      "cell_type": "code",
      "source": [
        "import itertools\n",
        "\n",
        "def scs(ss):\n",
        "    \"\"\" Returns shortest common superstring of given\n",
        "        strings, which must be the same length \"\"\"\n",
        "    shortest_sup = None\n",
        "    for ssperm in itertools.permutations(ss):\n",
        "        sup = ssperm[0]  # superstring starts as first string\n",
        "        for i in range(len(ss)-1):\n",
        "            # overlap adjacent strings A and B in the permutation\n",
        "            olen = overlap(ssperm[i], ssperm[i+1], min_length=1)\n",
        "            # add non-overlapping portion of B to superstring\n",
        "            sup += ssperm[i+1][olen:]\n",
        "        if shortest_sup is None or len(sup) < len(shortest_sup):\n",
        "            shortest_sup = sup  # found shorter superstring\n",
        "    return shortest_sup      # return shortest"
      ],
      "metadata": {
        "id": "dlQFKPXgS4Ln"
      },
      "execution_count": 13,
      "outputs": []
    },
    {
      "cell_type": "markdown",
      "source": [
        "### Question 1\n",
        "\n",
        "It's possible for there to be multiple different shortest common superstrings for the same set of input strings. Consider the input strings ABC, BCA, CAB. One shortest common superstring is ABCAB but another is BCABC and another is CABCA.\n",
        "\n",
        "What is the length of the shortest common superstring of the following strings?\n",
        "\n",
        "CCT, CTT, TGC, TGG, GAT, ATT"
      ],
      "metadata": {
        "id": "cInu7L_eTEET"
      }
    },
    {
      "cell_type": "code",
      "source": [
        "shortest_sup = scs(['CCT', 'CTT', 'TGC', 'TGG', 'GAT', 'ATT'])\n",
        "\n",
        "print(\"Shortest superstring is %s\" % shortest_sup, \"and length is %s\" % len(shortest_sup))"
      ],
      "metadata": {
        "colab": {
          "base_uri": "https://localhost:8080/"
        },
        "id": "utRYz7d0TUE6",
        "outputId": "3105593b-9fa2-437b-b9d1-9369441ff42f"
      },
      "execution_count": 16,
      "outputs": [
        {
          "output_type": "stream",
          "name": "stdout",
          "text": [
            "Shortest superstring is CCTTGGATTGC and length is 11\n"
          ]
        }
      ]
    },
    {
      "cell_type": "markdown",
      "source": [
        "### Question 2\n",
        "\n",
        "How many different shortest common superstrings are there for the input strings given in the previous question?\n",
        "\n",
        "Hint 1: You can modify the scs function to keep track of this. \n",
        "\n",
        "Hint 2: You can look at these examples to double-check that your modified scs is working as expected. "
      ],
      "metadata": {
        "id": "XIvT4US1W-ik"
      }
    },
    {
      "cell_type": "code",
      "source": [
        "def scs_list(ss):\n",
        "    \"\"\" Returns shortest common superstring of given\n",
        "        strings, which must be the same length \"\"\"\n",
        "    shortest_sup = []\n",
        "    for ssperm in itertools.permutations(ss):\n",
        "        sup = ssperm[0]  # superstring starts as first string\n",
        "        for i in range(len(ss)-1):\n",
        "            # overlap adjacent strings A and B in the permutation\n",
        "            olen = overlap(ssperm[i], ssperm[i+1], min_length=1)\n",
        "            # add non-overlapping portion of B to superstring\n",
        "            sup += ssperm[i+1][olen:]\n",
        "        shortest_sup.append(sup)  # found shorter superstring\n",
        "    shortest_len = len(ss) * len(ss[0])\n",
        "    for sup in shortest_sup:\n",
        "        if len(sup) <= shortest_len:\n",
        "            shortest_len = len(sup)\n",
        "    shortest_sup = [sup for sup in shortest_sup if len(sup) == shortest_len]\n",
        "    return list(set(shortest_sup))  # return shortest"
      ],
      "metadata": {
        "id": "zBlJsaakXMpu"
      },
      "execution_count": 18,
      "outputs": []
    },
    {
      "cell_type": "code",
      "source": [
        "shortest_sup_list = scs_list(['CCT', 'CTT', 'TGC', 'TGG', 'GAT', 'ATT'])\n",
        "#print(\"Length of the shortest common superstring:\", len(shortest_sup_list[0]))\n",
        "print(shortest_sup_list)\n",
        "print(\"Number of different shortest common superstrings:\", len(shortest_sup_list))"
      ],
      "metadata": {
        "colab": {
          "base_uri": "https://localhost:8080/"
        },
        "id": "hQdSVzO0YBdV",
        "outputId": "c70c42e3-81d5-452b-cf31-f60e79abcbdf"
      },
      "execution_count": 19,
      "outputs": [
        {
          "output_type": "stream",
          "name": "stdout",
          "text": [
            "['TGCCTTGGATT', 'GATTGCCTTGG', 'TGGATTGCCTT', 'CCTTGGATTGC']\n",
            "Number of different shortest common superstrings: 4\n"
          ]
        }
      ]
    },
    {
      "cell_type": "markdown",
      "source": [
        "### Question 3\n",
        "\n",
        "Download this FASTQ file containing synthetic sequencing reads from a mystery virus:\n",
        "\n",
        "https://d28rh4a8wq0iu5.cloudfront.net/ads1/data/ads1_week4_reads.fq\n",
        "\n",
        "All the reads are the same length (100 bases) and are exact copies of substrings from the forward strand of the virus genome.  You don't have to worry about sequencing errors, ploidy, or reads coming from the reverse strand.\n",
        "\n",
        "Assemble these reads using one of the approaches discussed, such as greedy shortest common superstring.  Since there are many reads, you might consider ways to make the algorithm faster, such as the one discussed in the programming assignment in the previous module.\n",
        "\n",
        "How many As are there in the full, assembled genome?\n",
        "\n",
        "Hint: the virus genome you are assembling is exactly 15,894 bases long"
      ],
      "metadata": {
        "id": "2bCDz6uNZNy5"
      }
    },
    {
      "cell_type": "code",
      "source": [
        "!wget https://d28rh4a8wq0iu5.cloudfront.net/ads1/data/ads1_week4_reads.fq"
      ],
      "metadata": {
        "colab": {
          "base_uri": "https://localhost:8080/"
        },
        "id": "4ZyDuoFAZp9L",
        "outputId": "114799e5-8d77-4c25-9a0d-b13f716dbb64"
      },
      "execution_count": 20,
      "outputs": [
        {
          "output_type": "stream",
          "name": "stdout",
          "text": [
            "--2022-03-04 19:28:05--  https://d28rh4a8wq0iu5.cloudfront.net/ads1/data/ads1_week4_reads.fq\n",
            "Resolving d28rh4a8wq0iu5.cloudfront.net (d28rh4a8wq0iu5.cloudfront.net)... 13.226.220.74, 13.226.220.77, 13.226.220.151, ...\n",
            "Connecting to d28rh4a8wq0iu5.cloudfront.net (d28rh4a8wq0iu5.cloudfront.net)|13.226.220.74|:443... connected.\n",
            "HTTP request sent, awaiting response... 200 OK\n",
            "Length: 395781 (387K) [video/m2ts]\n",
            "Saving to: ‘ads1_week4_reads.fq’\n",
            "\n",
            "ads1_week4_reads.fq 100%[===================>] 386.50K  1.37MB/s    in 0.3s    \n",
            "\n",
            "2022-03-04 19:28:06 (1.37 MB/s) - ‘ads1_week4_reads.fq’ saved [395781/395781]\n",
            "\n"
          ]
        }
      ]
    },
    {
      "cell_type": "code",
      "source": [
        "import operator\n",
        "\n",
        "\n",
        "def readFastq(filename):\n",
        "    sequences = []\n",
        "    qualities = []\n",
        "    with open(filename) as fh:\n",
        "        while True:\n",
        "            fh.readline()  # skip name line\n",
        "            seq = fh.readline().rstrip()  # read base sequence\n",
        "            fh.readline()  # skip placeholder line\n",
        "            qual = fh.readline().rstrip() # base quality line\n",
        "            if len(seq) == 0:\n",
        "                break\n",
        "            sequences.append(seq)\n",
        "            qualities.append(qual)\n",
        "    return sequences, qualities\n"
      ],
      "metadata": {
        "id": "lCU9cblaav6T"
      },
      "execution_count": 21,
      "outputs": []
    },
    {
      "cell_type": "code",
      "source": [
        "def smart_overlap_map(reads, k):\n",
        "    olaps = {}\n",
        "    result = {}\n",
        "    for read in reads:\n",
        "        for i in range(len(read)-k+1):\n",
        "            if read[i:i+k] not in olaps:\n",
        "                olaps[read[i:i+k]] = [read]\n",
        "            else:\n",
        "                olaps[read[i:i+k]].append(read)\n",
        "\n",
        "    count = 0\n",
        "    for read in reads:\n",
        "        read_suffix = read[-k:]\n",
        "        for possible_read in olaps[read_suffix]:\n",
        "            if possible_read != read:\n",
        "                olen = overlap(read, possible_read, k)\n",
        "                if olen > 0:\n",
        "                    count += 1\n",
        "                    result[(read, possible_read)] = olen\n",
        "\n",
        "    return result, count"
      ],
      "metadata": {
        "id": "XGJeCunxa-5C"
      },
      "execution_count": 22,
      "outputs": []
    },
    {
      "cell_type": "code",
      "source": [
        "def pick_maximal_overlap(reads, k):\n",
        "    \"\"\" Return a pair of reads from the list with a\n",
        "        maximal suffix/prefix overlap >= k.  Returns\n",
        "        overlap length 0 if there are no such overlaps.\"\"\"\n",
        "    reada, readb = None, None\n",
        "    best_olen = 0\n",
        "    for a, b in itertools.permutations(reads, 2):\n",
        "        olen = overlap(a, b, min_length=k)\n",
        "        if olen > best_olen:\n",
        "            reada, readb = a, b\n",
        "            best_olen = olen\n",
        "    return reada, readb, best_olen\n"
      ],
      "metadata": {
        "id": "_K7XEsyUbDJL"
      },
      "execution_count": 23,
      "outputs": []
    },
    {
      "cell_type": "code",
      "source": [
        "def smart_greedy_scs(reads, k):\n",
        "    \"\"\" Greedy shortest-common-superstring merge.\n",
        "        Repeat until no edges (overlaps of length >= k)\n",
        "        remain. \"\"\"\n",
        "    pairs_olen, pairs_count = smart_overlap_map(reads, k)\n",
        "    sorted_pairs_olen = sorted(pairs_olen.items(), key=operator.itemgetter(1), reverse=True)\n",
        "    read_a, read_b, olen = sorted_pairs_olen[0][0][0], sorted_pairs_olen[0][0][1], sorted_pairs_olen[0][1]\n",
        "    while olen > 0:\n",
        "        reads.remove(read_a)\n",
        "        reads.remove(read_b)\n",
        "        reads.append(read_a + read_b[olen:])\n",
        "        pairs_olen, pairs_count = smart_overlap_map(reads, k)\n",
        "        if pairs_olen != {}:\n",
        "            sorted_pairs_olen = sorted(pairs_olen.items(), key=operator.itemgetter(1), reverse=True)\n",
        "            read_a, read_b, olen = sorted_pairs_olen[0][0][0], sorted_pairs_olen[0][0][1], sorted_pairs_olen[0][1]\n",
        "        else:\n",
        "            read_a, read_b, olen = pick_maximal_overlap(reads, k)\n",
        "    return ''.join(reads)"
      ],
      "metadata": {
        "id": "w-V2jwnVbJ_v"
      },
      "execution_count": 24,
      "outputs": []
    },
    {
      "cell_type": "code",
      "source": [
        "fastq_reads, _ = readFastq('ads1_week4_reads.fq')\n",
        "\n",
        "genome = smart_greedy_scs(fastq_reads, 10)\n",
        "\n",
        "print(\"Number of As in the assembled genome:\", genome.count('A'))\n",
        "print(\"Number of Ts in the assembled genome:\", genome.count('T'))"
      ],
      "metadata": {
        "colab": {
          "base_uri": "https://localhost:8080/"
        },
        "id": "zpTl7aJ-bTiy",
        "outputId": "bc09a420-e198-4e87-e0c6-22457d35f900"
      },
      "execution_count": 25,
      "outputs": [
        {
          "output_type": "stream",
          "name": "stdout",
          "text": [
            "Number of As in the assembled genome: 4633\n",
            "Number of Ts in the assembled genome: 3723\n"
          ]
        }
      ]
    }
  ]
}