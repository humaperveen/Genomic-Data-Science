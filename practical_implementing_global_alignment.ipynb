{
  "nbformat": 4,
  "nbformat_minor": 0,
  "metadata": {
    "colab": {
      "name": "practical_implementing_global_alignment.ipynb",
      "provenance": [],
      "collapsed_sections": [],
      "authorship_tag": "ABX9TyNWyCvYiq8Ypt2DFaUph5MZ"
    },
    "kernelspec": {
      "name": "python3",
      "display_name": "Python 3"
    },
    "language_info": {
      "name": "python"
    }
  },
  "cells": [
    {
      "cell_type": "markdown",
      "source": [
        "# Practical: Implementing Global Alignment"
      ],
      "metadata": {
        "id": "6WFvgt-Lon64"
      }
    },
    {
      "cell_type": "code",
      "source": [
        "alphabet = ['A', 'C', 'G', 'T']\n",
        "score = [[0, 4, 2, 4, 8],\n",
        "         [4, 0, 4, 2, 8],\n",
        "         [2, 4, 0, 4, 8],\n",
        "         [4, 2, 4, 0, 8],\n",
        "         [8, 8, 8, 8, 8]]"
      ],
      "metadata": {
        "id": "BD9dIC5Dovix"
      },
      "execution_count": 1,
      "outputs": []
    },
    {
      "cell_type": "code",
      "source": [
        "# converts from character to its offset in list alphabet\n",
        "alphabet.index('A')"
      ],
      "metadata": {
        "colab": {
          "base_uri": "https://localhost:8080/"
        },
        "id": "-xA1kkyEoxnf",
        "outputId": "85b121b6-1d6d-49cb-aaef-4882f3c23c79"
      },
      "execution_count": 2,
      "outputs": [
        {
          "output_type": "execute_result",
          "data": {
            "text/plain": [
              "0"
            ]
          },
          "metadata": {},
          "execution_count": 2
        }
      ]
    },
    {
      "cell_type": "code",
      "source": [
        "alphabet.index('G')"
      ],
      "metadata": {
        "colab": {
          "base_uri": "https://localhost:8080/"
        },
        "id": "xM797ZBZo8Mq",
        "outputId": "751cfda3-f631-486a-a316-8d8f0a0ff6b3"
      },
      "execution_count": 3,
      "outputs": [
        {
          "output_type": "execute_result",
          "data": {
            "text/plain": [
              "2"
            ]
          },
          "metadata": {},
          "execution_count": 3
        }
      ]
    },
    {
      "cell_type": "code",
      "source": [
        "# penalty associated with A (from X) mismatching with T (from Y)\n",
        "score[alphabet.index('A')][alphabet.index('T')]"
      ],
      "metadata": {
        "colab": {
          "base_uri": "https://localhost:8080/"
        },
        "id": "SAYoTngxpEvj",
        "outputId": "706f10dc-204d-4cfe-e0db-9749d1c9cfc9"
      },
      "execution_count": 4,
      "outputs": [
        {
          "output_type": "execute_result",
          "data": {
            "text/plain": [
              "4"
            ]
          },
          "metadata": {},
          "execution_count": 4
        }
      ]
    },
    {
      "cell_type": "code",
      "source": [
        "# penalty associated with C (from X) being deleted in Y\n",
        "score[alphabet.index('C')][-1]"
      ],
      "metadata": {
        "colab": {
          "base_uri": "https://localhost:8080/"
        },
        "id": "Bjz-LPR6pRhc",
        "outputId": "26510602-34dc-49a4-baa0-66d5fcd962c7"
      },
      "execution_count": 5,
      "outputs": [
        {
          "output_type": "execute_result",
          "data": {
            "text/plain": [
              "8"
            ]
          },
          "metadata": {},
          "execution_count": 5
        }
      ]
    },
    {
      "cell_type": "code",
      "source": [
        "def globalAlignment(x, y):\n",
        "    # Create distance matrix\n",
        "    D = []\n",
        "    for i in range(len(x)+1):\n",
        "        D.append([0] * (len(y)+1))\n",
        "        \n",
        "    # Initialize first column\n",
        "    for i in range(1, len(x)+1):\n",
        "        D[i][0] = D[i-1][0] + score[alphabet.index(x[i-1])][-1]\n",
        "\n",
        "    # Initialize first row\n",
        "    for j in range(1,len(y)+1):\n",
        "        D[0][j] = D[0][j-1] + score[-1][alphabet.index(y[j-1])]\n",
        "        \n",
        "    # Fill rest of the matrix\n",
        "    for i in range(1, len(x)+1):\n",
        "        for j in range(1, len(y)+1):\n",
        "            distHor = D[i][j-1] + score[-1][alphabet.index(y[j-1])]\n",
        "            distVer = D[i-1][j] + score[alphabet.index(x[i-1])][-1]\n",
        "            distDiag = D[i-1][j-1] + score[alphabet.index(x[i-1])][alphabet.index(y[j-1])]\n",
        "            D[i][j] = min(distHor, distVer, distDiag)\n",
        "    \n",
        "    return D[-1][-1]  # return value in bottom right corner"
      ],
      "metadata": {
        "id": "aOQnKpImpV4L"
      },
      "execution_count": 6,
      "outputs": []
    },
    {
      "cell_type": "code",
      "source": [
        "x = 'TATGTCATGC'\n",
        "y = 'TATGTCATGC'\n",
        "print(globalAlignment(x,y))"
      ],
      "metadata": {
        "colab": {
          "base_uri": "https://localhost:8080/"
        },
        "id": "uqt4AIOXrdY8",
        "outputId": "5910aee7-fd4b-4bd1-aaa0-41f8f9fc3ec1"
      },
      "execution_count": 7,
      "outputs": [
        {
          "output_type": "stream",
          "name": "stdout",
          "text": [
            "0\n"
          ]
        }
      ]
    },
    {
      "cell_type": "code",
      "source": [
        "x = 'TATGTCATGC'\n",
        "y = 'TATTCATGC'\n",
        "print(globalAlignment(x,y))"
      ],
      "metadata": {
        "colab": {
          "base_uri": "https://localhost:8080/"
        },
        "id": "wGvOK9vmsCw4",
        "outputId": "ac7788ff-4747-4ad6-b1a7-9ff2231d4dec"
      },
      "execution_count": 8,
      "outputs": [
        {
          "output_type": "stream",
          "name": "stdout",
          "text": [
            "8\n"
          ]
        }
      ]
    },
    {
      "cell_type": "code",
      "source": [
        "x = 'TATGTCATGC'\n",
        "y = 'TATCTCATGC'\n",
        "print(globalAlignment(x,y))"
      ],
      "metadata": {
        "colab": {
          "base_uri": "https://localhost:8080/"
        },
        "id": "kB9f06l-sLLt",
        "outputId": "42da96ce-8751-4397-a2cd-acef56cd5530"
      },
      "execution_count": 9,
      "outputs": [
        {
          "output_type": "stream",
          "name": "stdout",
          "text": [
            "4\n"
          ]
        }
      ]
    },
    {
      "cell_type": "code",
      "source": [
        "x = 'TATGTCATGC'\n",
        "y = 'TATGGCAGC'\n",
        "print(globalAlignment(x,y))"
      ],
      "metadata": {
        "colab": {
          "base_uri": "https://localhost:8080/"
        },
        "id": "QJ6041ZEpajp",
        "outputId": "2bd7de91-d5fc-4148-f902-28e8cfbc3dc3"
      },
      "execution_count": 10,
      "outputs": [
        {
          "output_type": "stream",
          "name": "stdout",
          "text": [
            "12\n"
          ]
        }
      ]
    }
  ]
}