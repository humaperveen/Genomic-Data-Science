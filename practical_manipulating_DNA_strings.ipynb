{
  "nbformat": 4,
  "nbformat_minor": 0,
  "metadata": {
    "colab": {
      "name": "practical_manipulating_DNA_strings.ipynb",
      "provenance": [],
      "collapsed_sections": [],
      "authorship_tag": "ABX9TyPtJAeP3u5j/VXl4l8H4tBV"
    },
    "kernelspec": {
      "name": "python3",
      "display_name": "Python 3"
    },
    "language_info": {
      "name": "python"
    }
  },
  "cells": [
    {
      "cell_type": "markdown",
      "source": [
        "# Practical: Manipulating DNA strings"
      ],
      "metadata": {
        "id": "NkMYfsL7uKJC"
      }
    },
    {
      "cell_type": "code",
      "source": [
        "# function to find the longest common prefix between two strings.\n",
        "\n",
        "def longestCommonPrefix(s1, s2):\n",
        "  i = 0    # I'm going to start from zero, and as long as this index is within the range of both strings, I'm going to see whether the two strings are identical and if so, I'm going to increment the index.\n",
        "  while i < len(s1) and len(s2) and s1[i] == s2[i]:\n",
        "    i += 1  # increment i\n",
        "  return s1[:i]   # longest common prefix\n",
        "\n",
        "\n",
        "longestCommonPrefix('ACCATGT', 'ACCAGAC')"
      ],
      "metadata": {
        "colab": {
          "base_uri": "https://localhost:8080/",
          "height": 35
        },
        "id": "xKIYm_09uWg4",
        "outputId": "8544e863-7c00-4d71-9075-2efdb945e12e"
      },
      "execution_count": 5,
      "outputs": [
        {
          "output_type": "execute_result",
          "data": {
            "application/vnd.google.colaboratory.intrinsic+json": {
              "type": "string"
            },
            "text/plain": [
              "'ACCA'"
            ]
          },
          "metadata": {},
          "execution_count": 5
        }
      ]
    },
    {
      "cell_type": "code",
      "source": [
        "# function to see whether two strings match exactly.\n",
        "\n",
        "def match(s1, s2):\n",
        "  if not len(s1) == len(s2):\n",
        "    return False\n",
        "\n",
        "  for i in range(len(s1)):\n",
        "    if not s1[i] == s2[i]:\n",
        "      return False\n",
        "\n",
        "  return True\n",
        "\n",
        "match('ATGCT', 'ATGCT')"
      ],
      "metadata": {
        "colab": {
          "base_uri": "https://localhost:8080/"
        },
        "id": "50H5Z3Jwzotj",
        "outputId": "c80add88-5ab3-4193-f1a7-8724d9029eac"
      },
      "execution_count": 8,
      "outputs": [
        {
          "output_type": "execute_result",
          "data": {
            "text/plain": [
              "True"
            ]
          },
          "metadata": {},
          "execution_count": 8
        }
      ]
    },
    {
      "cell_type": "code",
      "source": [
        "match('ATCGT', 'GTACG')"
      ],
      "metadata": {
        "colab": {
          "base_uri": "https://localhost:8080/"
        },
        "id": "AULoeoJn05_s",
        "outputId": "c7825cc2-bb6f-42cc-b7cc-f05b7319cbc1"
      },
      "execution_count": 9,
      "outputs": [
        {
          "output_type": "execute_result",
          "data": {
            "text/plain": [
              "False"
            ]
          },
          "metadata": {},
          "execution_count": 9
        }
      ]
    },
    {
      "cell_type": "code",
      "source": [
        "# python has build in mathod to check match by using double == sign\n",
        "'ACGTC' == 'ACTGT'"
      ],
      "metadata": {
        "colab": {
          "base_uri": "https://localhost:8080/"
        },
        "id": "qDfiqjvx1NHp",
        "outputId": "1f41daf4-e75c-4268-949d-0a6e56211c60"
      },
      "execution_count": 10,
      "outputs": [
        {
          "output_type": "execute_result",
          "data": {
            "text/plain": [
              "False"
            ]
          },
          "metadata": {},
          "execution_count": 10
        }
      ]
    },
    {
      "cell_type": "code",
      "source": [
        "# function to get the reverse complement of a DNA strand.\n",
        "\n",
        "# first create a new dictionary\n",
        "complement = {'A': 'T', 'C': 'G', 'T': 'A', 'G': 'C'}"
      ],
      "metadata": {
        "id": "IcxPx0IX167W"
      },
      "execution_count": 11,
      "outputs": []
    },
    {
      "cell_type": "code",
      "source": [
        "complement['C']"
      ],
      "metadata": {
        "colab": {
          "base_uri": "https://localhost:8080/",
          "height": 35
        },
        "id": "10GFu1s321kG",
        "outputId": "e9fa773c-d97c-4e6b-b52d-05f4a1b96257"
      },
      "execution_count": 12,
      "outputs": [
        {
          "output_type": "execute_result",
          "data": {
            "application/vnd.google.colaboratory.intrinsic+json": {
              "type": "string"
            },
            "text/plain": [
              "'G'"
            ]
          },
          "metadata": {},
          "execution_count": 12
        }
      ]
    },
    {
      "cell_type": "code",
      "source": [
        "# function to get the reverse complement of a DNA strand.\n",
        "def reverseComplement(s):\n",
        "  complement = {'A': 'T', 'C': 'G', 'T': 'A', 'G': 'C'}\n",
        "  t = ''  # reverse of s\n",
        "  for base in s:\n",
        "    t = complement[base] + t\n",
        "  return t\n",
        "\n",
        "reverseComplement('ACCGTCG')"
      ],
      "metadata": {
        "colab": {
          "base_uri": "https://localhost:8080/",
          "height": 35
        },
        "id": "gdMFW61j27Yn",
        "outputId": "d2a647c0-6330-45ed-f477-acc5c414969d"
      },
      "execution_count": 13,
      "outputs": [
        {
          "output_type": "execute_result",
          "data": {
            "application/vnd.google.colaboratory.intrinsic+json": {
              "type": "string"
            },
            "text/plain": [
              "'CGACGGT'"
            ]
          },
          "metadata": {},
          "execution_count": 13
        }
      ]
    },
    {
      "cell_type": "code",
      "source": [
        ""
      ],
      "metadata": {
        "id": "DE20_DAd4foA"
      },
      "execution_count": null,
      "outputs": []
    }
  ]
}