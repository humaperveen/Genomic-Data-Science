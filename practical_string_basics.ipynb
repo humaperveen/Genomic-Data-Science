{
  "nbformat": 4,
  "nbformat_minor": 0,
  "metadata": {
    "colab": {
      "name": "practical_string_basics.ipynb",
      "provenance": [],
      "collapsed_sections": [],
      "authorship_tag": "ABX9TyO5QMMpEVb9aFj1i3siZvWo",
      "include_colab_link": true
    },
    "kernelspec": {
      "name": "python3",
      "display_name": "Python 3"
    },
    "language_info": {
      "name": "python"
    }
  },
  "cells": [
    {
      "cell_type": "markdown",
      "metadata": {
        "id": "view-in-github",
        "colab_type": "text"
      },
      "source": [
        "<a href=\"https://colab.research.google.com/github/humaperveen/Genomic-Data-Science/blob/week1/practical_string_basics.ipynb\" target=\"_parent\"><img src=\"https://colab.research.google.com/assets/colab-badge.svg\" alt=\"Open In Colab\"/></a>"
      ]
    },
    {
      "cell_type": "markdown",
      "source": [
        "# Practical: String Basics"
      ],
      "metadata": {
        "id": "ryjMZdjgh_St"
      }
    },
    {
      "cell_type": "code",
      "source": [
        "# define string with single quote ''\n",
        "seq = 'ACGT'"
      ],
      "metadata": {
        "id": "61HAAoE7iD0Q"
      },
      "execution_count": null,
      "outputs": []
    },
    {
      "cell_type": "code",
      "source": [
        "# we can also define with double quote \"\"\n",
        "seq = \"ACGT\""
      ],
      "metadata": {
        "id": "pr_TDUoIiVHS"
      },
      "execution_count": 1,
      "outputs": []
    },
    {
      "cell_type": "code",
      "source": [
        "#  get character from the string at index 1, remember in python string indexing start with 0, 1 and so on\n",
        "seq[1]"
      ],
      "metadata": {
        "colab": {
          "base_uri": "https://localhost:8080/",
          "height": 35
        },
        "id": "1PZK5EqoivvX",
        "outputId": "f834dc73-dff9-478f-dab0-f8d782b675df"
      },
      "execution_count": 2,
      "outputs": [
        {
          "output_type": "execute_result",
          "data": {
            "application/vnd.google.colaboratory.intrinsic+json": {
              "type": "string"
            },
            "text/plain": [
              "'C'"
            ]
          },
          "metadata": {},
          "execution_count": 2
        }
      ]
    },
    {
      "cell_type": "code",
      "source": [
        "# To get length of string\n",
        "len(seq)"
      ],
      "metadata": {
        "colab": {
          "base_uri": "https://localhost:8080/"
        },
        "id": "FyDiEc9TjCYD",
        "outputId": "b3324cda-312a-4311-b19e-d30193115ae4"
      },
      "execution_count": 3,
      "outputs": [
        {
          "output_type": "execute_result",
          "data": {
            "text/plain": [
              "4"
            ]
          },
          "metadata": {},
          "execution_count": 3
        }
      ]
    },
    {
      "cell_type": "code",
      "source": [
        "# We can define an empty string by just putting two quotes with nothing in-between them.\n",
        "e= ''"
      ],
      "metadata": {
        "id": "C0xRqyuYjXqT"
      },
      "execution_count": 4,
      "outputs": []
    },
    {
      "cell_type": "code",
      "source": [
        "# length of empty string\n",
        "len(e)"
      ],
      "metadata": {
        "colab": {
          "base_uri": "https://localhost:8080/"
        },
        "id": "D1tmHoDujjYD",
        "outputId": "9e20dac3-fbee-4268-d185-1f7ba7dc794e"
      },
      "execution_count": 5,
      "outputs": [
        {
          "output_type": "execute_result",
          "data": {
            "text/plain": [
              "0"
            ]
          },
          "metadata": {},
          "execution_count": 5
        }
      ]
    },
    {
      "cell_type": "code",
      "source": [
        "# concatenate two strings by using + sign\n",
        "seq1 = 'CCTT'\n",
        "seq2 = 'GGTT'\n",
        "\n",
        "print(seq1 + seq2)"
      ],
      "metadata": {
        "colab": {
          "base_uri": "https://localhost:8080/"
        },
        "id": "o5BAuWOSjs6i",
        "outputId": "3e09694f-756c-49a4-9a1f-be9ad323152e"
      },
      "execution_count": 6,
      "outputs": [
        {
          "output_type": "stream",
          "name": "stdout",
          "text": [
            "CCTTGGTT\n"
          ]
        }
      ]
    },
    {
      "cell_type": "code",
      "source": [
        "# We can also concatenate strings using the join function. So to do this, I'm going to start by creating a list of strings.\n",
        "seqs = ['A', 'C', 'G', 'T']\n",
        "print(''.join(seqs)) "
      ],
      "metadata": {
        "colab": {
          "base_uri": "https://localhost:8080/"
        },
        "id": "1Qxac0kzkNl5",
        "outputId": "327da16c-e037-49c7-86f4-4d43cbed04c5"
      },
      "execution_count": 7,
      "outputs": [
        {
          "output_type": "stream",
          "name": "stdout",
          "text": [
            "ACGT\n"
          ]
        }
      ]
    },
    {
      "cell_type": "code",
      "source": [
        "# instead of empty space we can use comma(,) as separator\n",
        "print(','.join(seqs))"
      ],
      "metadata": {
        "colab": {
          "base_uri": "https://localhost:8080/"
        },
        "id": "c50v1ofWkwha",
        "outputId": "65e5c32f-6c1a-4aa4-938d-b6e19a55b9b8"
      },
      "execution_count": 8,
      "outputs": [
        {
          "output_type": "stream",
          "name": "stdout",
          "text": [
            "A,C,G,T\n"
          ]
        }
      ]
    },
    {
      "cell_type": "code",
      "source": [
        "# creat random string of DNA sequences\n",
        "# random.choice give different character every time if we want same result we use random.seed()\n",
        "import random\n",
        "#random.seed(7)\n",
        "random.choice('ACGT') # to choose random character from string\n"
      ],
      "metadata": {
        "colab": {
          "base_uri": "https://localhost:8080/",
          "height": 35
        },
        "id": "0FntzjOglRzX",
        "outputId": "0578d8a1-8c76-4486-dec7-5b73c268a4ed"
      },
      "execution_count": 13,
      "outputs": [
        {
          "output_type": "execute_result",
          "data": {
            "application/vnd.google.colaboratory.intrinsic+json": {
              "type": "string"
            },
            "text/plain": [
              "'T'"
            ]
          },
          "metadata": {},
          "execution_count": 13
        }
      ]
    },
    {
      "cell_type": "code",
      "source": [
        "# now let's use this random.choice to generate a longer string of randomly choosen nucleotides. \n",
        "#So to do this I'm going to first create an empty sequence.\n",
        "seq = ''\n",
        "# so in this case I don't care what index in the iteration I'm at. So I use an underscore (_)to indicate that I don't want to save that number to a variable.\n",
        "for _ in range(10):     # So it will be a string of length ten.\n",
        "  seq += random.choice('ACGT')\n",
        "\n",
        "print(seq)\n"
      ],
      "metadata": {
        "colab": {
          "base_uri": "https://localhost:8080/"
        },
        "id": "LD--h-Rumvfe",
        "outputId": "d985cefa-db30-410e-b928-ddba0d2e9968"
      },
      "execution_count": 15,
      "outputs": [
        {
          "output_type": "stream",
          "name": "stdout",
          "text": [
            "ACATAACATA\n"
          ]
        }
      ]
    },
    {
      "cell_type": "code",
      "source": [
        "# Another way to generate a random sequence is using join.\n",
        "seq = ''.join([random.choice('ACGT') for _ in range(10)])\n",
        "print(seq)"
      ],
      "metadata": {
        "colab": {
          "base_uri": "https://localhost:8080/"
        },
        "id": "nwYXmlbEo0j9",
        "outputId": "04fa2c4a-837e-4e5c-9622-b23d12786ccf"
      },
      "execution_count": 16,
      "outputs": [
        {
          "output_type": "stream",
          "name": "stdout",
          "text": [
            "CACGTCAGCA\n"
          ]
        }
      ]
    },
    {
      "cell_type": "code",
      "source": [
        "# We can also get substrings using a colon.\n",
        "seq[1:3]"
      ],
      "metadata": {
        "colab": {
          "base_uri": "https://localhost:8080/",
          "height": 35
        },
        "id": "B92BrrD7pccH",
        "outputId": "2604aac5-f025-4ce1-bf6e-898f34c84850"
      },
      "execution_count": 17,
      "outputs": [
        {
          "output_type": "execute_result",
          "data": {
            "application/vnd.google.colaboratory.intrinsic+json": {
              "type": "string"
            },
            "text/plain": [
              "'AC'"
            ]
          },
          "metadata": {},
          "execution_count": 17
        }
      ]
    },
    {
      "cell_type": "code",
      "source": [
        "# We can get a prefix by just not putting a number before the first colon.\n",
        "seq[:3]"
      ],
      "metadata": {
        "colab": {
          "base_uri": "https://localhost:8080/",
          "height": 35
        },
        "id": "2sKRHAIfqChX",
        "outputId": "05aad0ae-4364-43ac-d412-59f48fce2741"
      },
      "execution_count": 18,
      "outputs": [
        {
          "output_type": "execute_result",
          "data": {
            "application/vnd.google.colaboratory.intrinsic+json": {
              "type": "string"
            },
            "text/plain": [
              "'CAC'"
            ]
          },
          "metadata": {},
          "execution_count": 18
        }
      ]
    },
    {
      "cell_type": "code",
      "source": [
        "# it is same as we can do [0:3]\n",
        "seq[0:3]"
      ],
      "metadata": {
        "colab": {
          "base_uri": "https://localhost:8080/",
          "height": 35
        },
        "id": "MPlV07avqKwC",
        "outputId": "73aba5ea-f682-49b6-91a0-9937cf180f53"
      },
      "execution_count": 19,
      "outputs": [
        {
          "output_type": "execute_result",
          "data": {
            "application/vnd.google.colaboratory.intrinsic+json": {
              "type": "string"
            },
            "text/plain": [
              "'CAC'"
            ]
          },
          "metadata": {},
          "execution_count": 19
        }
      ]
    },
    {
      "cell_type": "code",
      "source": [
        "# And similarly we can get a suffix by just not putting a character after the seven.\n",
        "seq[7:]"
      ],
      "metadata": {
        "colab": {
          "base_uri": "https://localhost:8080/",
          "height": 35
        },
        "id": "HvEZ1WOhqYlJ",
        "outputId": "0d99e115-d009-404f-b411-cea899774606"
      },
      "execution_count": 20,
      "outputs": [
        {
          "output_type": "execute_result",
          "data": {
            "application/vnd.google.colaboratory.intrinsic+json": {
              "type": "string"
            },
            "text/plain": [
              "'GCA'"
            ]
          },
          "metadata": {},
          "execution_count": 20
        }
      ]
    },
    {
      "cell_type": "code",
      "source": [
        "# and this is identical as we do \n",
        "seq[7: len(seq)]"
      ],
      "metadata": {
        "colab": {
          "base_uri": "https://localhost:8080/",
          "height": 35
        },
        "id": "Xv2tLRrCqrc5",
        "outputId": "61a734ea-c5a3-4c8c-a9f9-d4c413d5ed3e"
      },
      "execution_count": 21,
      "outputs": [
        {
          "output_type": "execute_result",
          "data": {
            "application/vnd.google.colaboratory.intrinsic+json": {
              "type": "string"
            },
            "text/plain": [
              "'GCA'"
            ]
          },
          "metadata": {},
          "execution_count": 21
        }
      ]
    },
    {
      "cell_type": "code",
      "source": [
        "# Another way we can get a suffix is actually using negative indices.\n",
        "seq[-3]"
      ],
      "metadata": {
        "colab": {
          "base_uri": "https://localhost:8080/",
          "height": 35
        },
        "id": "jvXfiq9-rEe4",
        "outputId": "7254c350-fab4-49d2-e851-00f1329f0b74"
      },
      "execution_count": 22,
      "outputs": [
        {
          "output_type": "execute_result",
          "data": {
            "application/vnd.google.colaboratory.intrinsic+json": {
              "type": "string"
            },
            "text/plain": [
              "'G'"
            ]
          },
          "metadata": {},
          "execution_count": 22
        }
      ]
    },
    {
      "cell_type": "code",
      "source": [
        "# we use [-3:] to get the last three characters of the string, so that's the suffix of length three of the string.\n",
        "seq[-3:]"
      ],
      "metadata": {
        "colab": {
          "base_uri": "https://localhost:8080/",
          "height": 35
        },
        "id": "HJg1dt7YrOzi",
        "outputId": "ede1adac-e90b-4139-d561-6bc3064f1265"
      },
      "execution_count": 23,
      "outputs": [
        {
          "output_type": "execute_result",
          "data": {
            "application/vnd.google.colaboratory.intrinsic+json": {
              "type": "string"
            },
            "text/plain": [
              "'GCA'"
            ]
          },
          "metadata": {},
          "execution_count": 23
        }
      ]
    }
  ]
}