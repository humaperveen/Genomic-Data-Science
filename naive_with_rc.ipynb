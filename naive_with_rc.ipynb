{
  "nbformat": 4,
  "nbformat_minor": 0,
  "metadata": {
    "colab": {
      "name": "naive_with_rc.ipynb",
      "provenance": [],
      "collapsed_sections": [],
      "authorship_tag": "ABX9TyPJwbSpzvZsd5GVEDbJzbXs"
    },
    "kernelspec": {
      "name": "python3",
      "display_name": "Python 3"
    },
    "language_info": {
      "name": "python"
    }
  },
  "cells": [
    {
      "cell_type": "markdown",
      "source": [
        "# Naive with Reverse Complement"
      ],
      "metadata": {
        "id": "B74EtpIYL0u6"
      }
    },
    {
      "cell_type": "code",
      "source": [
        "# naive exact matching algorithm\n",
        "# Returns a list of occurrences (offset)\n",
        "def naive(p, t):\n",
        "    occurrences = []\n",
        "    for i in range(len(t) - len(p) + 1):  # loop over alignments\n",
        "        match = True\n",
        "        for j in range(len(p)):  # loop over characters\n",
        "            if t[i+j] != p[j]:  # compare characters\n",
        "                match = False\n",
        "                break\n",
        "        if match:\n",
        "            occurrences.append(i)  # all chars matched; record\n",
        "    return occurrences"
      ],
      "metadata": {
        "id": "0y-x-LjZL1b2"
      },
      "execution_count": 1,
      "outputs": []
    },
    {
      "cell_type": "code",
      "source": [
        "# returns reverse complement of DNA\n",
        "def reverseComplement(s):\n",
        "    complement = {'A': 'T', 'C': 'G', 'G': 'C', 'T': 'A', 'N': 'N'}\n",
        "    t = ''\n",
        "    for base in s:\n",
        "        t = complement[base] + t\n",
        "    return t"
      ],
      "metadata": {
        "id": "dcDE41v2L5vV"
      },
      "execution_count": 2,
      "outputs": []
    },
    {
      "cell_type": "code",
      "source": [
        "# naive exact matching algorithm that is strand-aware\n",
        "# Instead of looking only for occurrences of P in T, additionally look for occurrences of the reverse complement of P in T. \n",
        "def naive_with_rc(p, t):\n",
        "\tr = reverseComplement(p)\n",
        "\tif r == p:\n",
        "\t\treturn naive(p,t)\n",
        "\telse:\n",
        "\t\treturn naive(p,t) + naive(r,t)"
      ],
      "metadata": {
        "id": "qzLqmeP7MKn0"
      },
      "execution_count": 3,
      "outputs": []
    },
    {
      "cell_type": "code",
      "source": [
        "# naive exact matching algorithm\n",
        "# Returns a list of occurrences (offset)\n",
        "def naive_2mm(p, t):\n",
        "    occurrences = []\n",
        "    for i in range(len(t) - len(p) + 1):  # loop over alignments\n",
        "        match = True\n",
        "        mismatch_count = 0\n",
        "        for j in range(len(p)):  # loop over characters\n",
        "            if t[i+j] != p[j]:  # compare characters\n",
        "                mismatch_count+=1\n",
        "\n",
        "                if mismatch_count > 2:\n",
        "                \tmatch = False\n",
        "                \tbreak\n",
        "        if match:\n",
        "            occurrences.append(i)  # all chars matched; record\n",
        "    return occurrences"
      ],
      "metadata": {
        "id": "7t3cBBThMWFM"
      },
      "execution_count": 4,
      "outputs": []
    },
    {
      "cell_type": "code",
      "source": [
        "# parses a DNA reference genome from a file in the FASTA format.\n",
        "def readGenome(filename):\n",
        "    genome = ''\n",
        "    with open(filename, 'r') as f:\n",
        "        for line in f:\n",
        "            # ignore header line with genome information\n",
        "            if not line[0] == '>':\n",
        "                genome += line.rstrip()\n",
        "    return genome"
      ],
      "metadata": {
        "id": "mPSsHl9aMvlP"
      },
      "execution_count": 5,
      "outputs": []
    },
    {
      "cell_type": "code",
      "source": [
        "# parses the read and quality strings from a FASTQ file containing sequencing reads\n",
        "def readFastq(filename):\n",
        "    sequences = []\n",
        "    qualities = []\n",
        "    with open(filename) as fh:\n",
        "        while True:\n",
        "            fh.readline()  # skip name line\n",
        "            seq = fh.readline().rstrip()  # read base sequence\n",
        "            fh.readline()  # skip placeholder line\n",
        "            qual = fh.readline().rstrip() # base quality line\n",
        "            if len(seq) == 0:\n",
        "                break\n",
        "            sequences.append(seq)\n",
        "            qualities.append(qual)\n",
        "    return sequences, qualities"
      ],
      "metadata": {
        "id": "C2RYrWVkMc7c"
      },
      "execution_count": 6,
      "outputs": []
    },
    {
      "cell_type": "code",
      "source": [
        "p = 'CCC'\n",
        "ten_as = 'AAAAAAAAAA'\n",
        "t = ten_as + 'CCC' + ten_as + 'GGG' + ten_as\n",
        "occurrences = naive_with_rc(p, t)\n",
        "print(p)\n",
        "print(t)\n",
        "print(occurrences)"
      ],
      "metadata": {
        "colab": {
          "base_uri": "https://localhost:8080/"
        },
        "id": "2-dFUdRFM3_G",
        "outputId": "405937e1-e3ec-498d-ac97-978f50681d03"
      },
      "execution_count": 7,
      "outputs": [
        {
          "output_type": "stream",
          "name": "stdout",
          "text": [
            "CCC\n",
            "AAAAAAAAAACCCAAAAAAAAAAGGGAAAAAAAAAA\n",
            "[10, 23]\n"
          ]
        }
      ]
    },
    {
      "cell_type": "code",
      "source": [
        "p = 'CGCG'\n",
        "t = ten_as + 'CGCG' + ten_as + 'CGCG' + ten_as\n",
        "occurrences = naive_with_rc(p, t)\n",
        "print(p)\n",
        "print(t)\n",
        "print(occurrences)"
      ],
      "metadata": {
        "colab": {
          "base_uri": "https://localhost:8080/"
        },
        "id": "2YmoENRMNK5W",
        "outputId": "77f24ce2-ae30-4a35-a753-b684e7efe71c"
      },
      "execution_count": 8,
      "outputs": [
        {
          "output_type": "stream",
          "name": "stdout",
          "text": [
            "CGCG\n",
            "AAAAAAAAAACGCGAAAAAAAAAACGCGAAAAAAAAAA\n",
            "[10, 24]\n"
          ]
        }
      ]
    },
    {
      "cell_type": "code",
      "source": [
        "# Phi-X genome\n",
        "!wget http://d396qusza40orc.cloudfront.net/ads1/data/phix.fa"
      ],
      "metadata": {
        "colab": {
          "base_uri": "https://localhost:8080/"
        },
        "id": "U1Y8A8LaN57Q",
        "outputId": "b1b282b1-c103-4f48-c4fc-8907a49eee02"
      },
      "execution_count": 11,
      "outputs": [
        {
          "output_type": "stream",
          "name": "stdout",
          "text": [
            "--2022-03-02 15:20:25--  http://d396qusza40orc.cloudfront.net/ads1/data/phix.fa\n",
            "Resolving d396qusza40orc.cloudfront.net (d396qusza40orc.cloudfront.net)... 108.157.172.179, 108.157.172.183, 108.157.172.113, ...\n",
            "Connecting to d396qusza40orc.cloudfront.net (d396qusza40orc.cloudfront.net)|108.157.172.179|:80... connected.\n",
            "HTTP request sent, awaiting response... 200 OK\n",
            "Length: 5528 (5.4K) [application/octet-stream]\n",
            "Saving to: ‘phix.fa.1’\n",
            "\n",
            "\rphix.fa.1             0%[                    ]       0  --.-KB/s               \rphix.fa.1           100%[===================>]   5.40K  --.-KB/s    in 0s      \n",
            "\n",
            "2022-03-02 15:20:25 (344 MB/s) - ‘phix.fa.1’ saved [5528/5528]\n",
            "\n"
          ]
        }
      ]
    },
    {
      "cell_type": "code",
      "source": [
        "phix_genome = readGenome('phix.fa')"
      ],
      "metadata": {
        "id": "EboNwbT7OJs2"
      },
      "execution_count": 12,
      "outputs": []
    },
    {
      "cell_type": "code",
      "source": [
        "occurrences = naive_with_rc('ATTA', phix_genome)"
      ],
      "metadata": {
        "id": "r2bjuZi6ONrk"
      },
      "execution_count": 13,
      "outputs": []
    },
    {
      "cell_type": "code",
      "source": [
        "print('offset of leftmost occurrence: %d' % min(occurrences))"
      ],
      "metadata": {
        "colab": {
          "base_uri": "https://localhost:8080/"
        },
        "id": "ud88yYZeOSxd",
        "outputId": "a31910af-88d8-45de-97bd-e6a2829b08d7"
      },
      "execution_count": 14,
      "outputs": [
        {
          "output_type": "stream",
          "name": "stdout",
          "text": [
            "offset of leftmost occurrence: 62\n"
          ]
        }
      ]
    },
    {
      "cell_type": "code",
      "source": [
        "print('# occurrences: %d' % len(occurrences))\n"
      ],
      "metadata": {
        "colab": {
          "base_uri": "https://localhost:8080/"
        },
        "id": "r5YPSkqCOaxC",
        "outputId": "eb5e0ecb-a579-4f50-86a3-e1520c10f11d"
      },
      "execution_count": 15,
      "outputs": [
        {
          "output_type": "stream",
          "name": "stdout",
          "text": [
            "# occurrences: 60\n"
          ]
        }
      ]
    },
    {
      "cell_type": "code",
      "source": [
        "p = 'CTGT'\n",
        "ten_as = 'AAAAAAAAAA'\n",
        "t = ten_as + 'CTGT' + ten_as + 'CTTT' + ten_as + 'CGGG' + ten_as\n",
        "occurrences = naive_2mm(p, t)\n",
        "print(occurrences)"
      ],
      "metadata": {
        "colab": {
          "base_uri": "https://localhost:8080/"
        },
        "id": "A7DLnnKTcK4x",
        "outputId": "cc938588-d843-4f03-cb34-af1c9d2cedd5"
      },
      "execution_count": 35,
      "outputs": [
        {
          "output_type": "stream",
          "name": "stdout",
          "text": [
            "[10, 24, 38]\n"
          ]
        }
      ]
    },
    {
      "cell_type": "code",
      "source": [
        "occurrences = naive_2mm('GATTACA', phix_genome)\n",
        "print('offset of leftmost occurrence: %d' % min(occurrences))"
      ],
      "metadata": {
        "colab": {
          "base_uri": "https://localhost:8080/"
        },
        "id": "zi3zyHNgcdIr",
        "outputId": "b6afea74-b349-401a-8e9b-3f5d38369eb3"
      },
      "execution_count": 36,
      "outputs": [
        {
          "output_type": "stream",
          "name": "stdout",
          "text": [
            "offset of leftmost occurrence: 10\n"
          ]
        }
      ]
    },
    {
      "cell_type": "code",
      "source": [
        "print('# occurrences: %d' % len(occurrences))"
      ],
      "metadata": {
        "colab": {
          "base_uri": "https://localhost:8080/"
        },
        "id": "sTGz_BakcjsM",
        "outputId": "2b47b286-e6e9-4c5e-f7a1-7f899bd5006c"
      },
      "execution_count": 37,
      "outputs": [
        {
          "output_type": "stream",
          "name": "stdout",
          "text": [
            "# occurrences: 79\n"
          ]
        }
      ]
    },
    {
      "cell_type": "code",
      "source": [
        "# lambda virus genome\n",
        "!wget https://d28rh4a8wq0iu5.cloudfront.net/ads1/data/lambda_virus.fa"
      ],
      "metadata": {
        "colab": {
          "base_uri": "https://localhost:8080/"
        },
        "id": "14z0T1CEOwxo",
        "outputId": "96413883-efae-4775-ff2a-2d387cf9df2d"
      },
      "execution_count": 16,
      "outputs": [
        {
          "output_type": "stream",
          "name": "stdout",
          "text": [
            "--2022-03-02 15:24:18--  https://d28rh4a8wq0iu5.cloudfront.net/ads1/data/lambda_virus.fa\n",
            "Resolving d28rh4a8wq0iu5.cloudfront.net (d28rh4a8wq0iu5.cloudfront.net)... 13.32.84.231, 13.32.84.71, 13.32.84.31, ...\n",
            "Connecting to d28rh4a8wq0iu5.cloudfront.net (d28rh4a8wq0iu5.cloudfront.net)|13.32.84.231|:443... connected.\n",
            "HTTP request sent, awaiting response... 200 OK\n",
            "Length: 49270 (48K) [application/octet-stream]\n",
            "Saving to: ‘lambda_virus.fa’\n",
            "\n",
            "lambda_virus.fa     100%[===================>]  48.12K  --.-KB/s    in 0.04s   \n",
            "\n",
            "2022-03-02 15:24:18 (1.08 MB/s) - ‘lambda_virus.fa’ saved [49270/49270]\n",
            "\n"
          ]
        }
      ]
    },
    {
      "cell_type": "code",
      "source": [
        "# Question 1\n",
        "# How many times does AGGT or its reverse complement (ACCT) occur in the lambda virus genome? \n",
        "# E.g. if AGGT occurs 10 times and ACCT occurs 12 times, you should report 22.\n",
        "lambda_virus_genome = readGenome('lambda_virus.fa')\n",
        "occurrences = naive_with_rc('AGGT', lambda_virus_genome)\n",
        "print('AGGT in lambda_virus:')\n",
        "print('# occurrences: %d' % len(occurrences))"
      ],
      "metadata": {
        "colab": {
          "base_uri": "https://localhost:8080/"
        },
        "id": "WVf9I2CxOmsM",
        "outputId": "364f260c-7099-432e-a7a9-8e48641a4290"
      },
      "execution_count": 17,
      "outputs": [
        {
          "output_type": "stream",
          "name": "stdout",
          "text": [
            "AGGT in lambda_virus:\n",
            "# occurrences: 306\n"
          ]
        }
      ]
    },
    {
      "cell_type": "code",
      "source": [
        "# Question 2\n",
        "# How many times does TTAA or its reverse complement occur in the lambda virus genome? \n",
        "# Hint: TTAA and its reverse complement are equal, so remember not to double count.\n",
        "occurrences = naive_with_rc('TTAA', lambda_virus_genome)\n",
        "print('TTAA in lambda_virus:')\n",
        "print('# occurrences: %d' % len(occurrences))"
      ],
      "metadata": {
        "colab": {
          "base_uri": "https://localhost:8080/"
        },
        "id": "51eHpipgPSMj",
        "outputId": "c9df7529-2425-46aa-db22-fbabad81da40"
      },
      "execution_count": 18,
      "outputs": [
        {
          "output_type": "stream",
          "name": "stdout",
          "text": [
            "TTAA in lambda_virus:\n",
            "# occurrences: 195\n"
          ]
        }
      ]
    },
    {
      "cell_type": "code",
      "source": [
        "# Question 3\n",
        "# What is the offset of the leftmost occurrence of ACTAAGT or its reverse complement in the Lambda virus genome? \n",
        "# E.g. if the leftmost occurrence of ACTAAGT is at offset 40 (0-based) and the leftmost occurrence of its reverse \n",
        "# complement ACTTAGT is at offset 29, then report 29.\n",
        "occurrences = naive_with_rc('ACTAAGT', lambda_virus_genome)\n",
        "print('offset of leftmost occurrence of ACTAAGT: %d' % min(occurrences))"
      ],
      "metadata": {
        "colab": {
          "base_uri": "https://localhost:8080/"
        },
        "id": "6n3KE0C_PWMB",
        "outputId": "1a818943-f4bd-41dc-cded-f5076d6541f3"
      },
      "execution_count": 19,
      "outputs": [
        {
          "output_type": "stream",
          "name": "stdout",
          "text": [
            "offset of leftmost occurrence of ACTAAGT: 26028\n"
          ]
        }
      ]
    },
    {
      "cell_type": "code",
      "source": [
        "# Question 4\n",
        "# What is the offset of the leftmost occurrence of AGTCGA or its reverse complement in the Lambda virus genome?\n",
        "occurrences = naive_with_rc('AGTCGA', lambda_virus_genome)\n",
        "print('offset of leftmost occurrence of AGTCGA: %d' % min(occurrences))\n"
      ],
      "metadata": {
        "colab": {
          "base_uri": "https://localhost:8080/"
        },
        "id": "Xcm_WknaPbnj",
        "outputId": "8bfffc7e-3ea2-4373-fda0-c17493802aa9"
      },
      "execution_count": 20,
      "outputs": [
        {
          "output_type": "stream",
          "name": "stdout",
          "text": [
            "offset of leftmost occurrence of AGTCGA: 450\n"
          ]
        }
      ]
    },
    {
      "cell_type": "code",
      "source": [
        "# Question 5\n",
        "# As we will discuss, sometimes we would like to find approximate matches for P in T. T\n",
        "# hat is, we want to find occurrences with one or more differences.\n",
        "# For Questions 5 and 6, make a new version of the naive function called naive_2mm that allows up to \n",
        "# 2 mismatches per occurrence. Unlike for the previous questions, do not consider the reverse complement here. \n",
        "# We're looking for approximate matches for P itself, not its reverse complement. ￼\n",
        "# For example, ACTTTA occurs twice in ACTTACTTGATAAAGT, once at offset 0 with 2 mismatches, and once at offset 4 with 1 mismatch. \n",
        "# So naive_2mm('ACTTTA', 'ACTTACTTGATAAAGT') should return the list [0, 4].\n",
        "\n",
        "# How many times does TTCAAGCC occur in the Lambda virus genome when allowing up to 2 mismatches?\n",
        "occurrences = naive_2mm('TTCAAGCC', lambda_virus_genome)\n",
        "print('TTCAAGCC (up to 2 mismatches) in lambda_virus:')\n",
        "print('# occurrences: %d' % len(occurrences))"
      ],
      "metadata": {
        "colab": {
          "base_uri": "https://localhost:8080/"
        },
        "id": "sARFQV48PgCq",
        "outputId": "81836e5b-6f05-4f03-84b5-7fc4700f8a03"
      },
      "execution_count": 21,
      "outputs": [
        {
          "output_type": "stream",
          "name": "stdout",
          "text": [
            "TTCAAGCC (up to 2 mismatches) in lambda_virus:\n",
            "# occurrences: 191\n"
          ]
        }
      ]
    },
    {
      "cell_type": "code",
      "source": [
        "# Question 6\n",
        "# What is the offset of the leftmost occurrence of AGGAGGTT in the Lambda virus genome when allowing up to 2 mismatches?\n",
        "occurrences = naive_2mm('AGGAGGTT', lambda_virus_genome)\n",
        "print('AGGAGGTT (up to 2 mismatches) in lambda_virus:')\n",
        "print('offset of leftmost occurrence: %d' % min(occurrences))\n"
      ],
      "metadata": {
        "colab": {
          "base_uri": "https://localhost:8080/"
        },
        "id": "SZCvRoTEPy8B",
        "outputId": "b512de12-a042-4cc3-c4ce-2dd1c1c3105a"
      },
      "execution_count": 22,
      "outputs": [
        {
          "output_type": "stream",
          "name": "stdout",
          "text": [
            "AGGAGGTT (up to 2 mismatches) in lambda_virus:\n",
            "offset of leftmost occurrence: 49\n"
          ]
        }
      ]
    },
    {
      "cell_type": "code",
      "source": [
        "# Test 1\n",
        "p = 'CTGT'\n",
        "ten_as = 'AAAAAAAAAA'\n",
        "t = ten_as + 'CTGT' + ten_as + 'CTTT' + ten_as + 'CGGG' + ten_as\n",
        "occurrences = naive_2mm(p, t)\n",
        "print(occurrences)\n",
        "# [10, 24, 38]"
      ],
      "metadata": {
        "colab": {
          "base_uri": "https://localhost:8080/"
        },
        "id": "xJApHRkLP308",
        "outputId": "2fa782f5-9563-47c2-bb37-485974da8bf2"
      },
      "execution_count": 23,
      "outputs": [
        {
          "output_type": "stream",
          "name": "stdout",
          "text": [
            "[10, 24, 38]\n"
          ]
        }
      ]
    },
    {
      "cell_type": "code",
      "source": [
        "# Test 2\n",
        "phix_genome = readGenome('phix.fa')\n",
        "occurrences = naive_2mm('GATTACA', phix_genome)\n",
        "print('offset of leftmost occurrence: %d' % min(occurrences))\n",
        "# offset of leftmost occurrence: 10\n",
        "\n",
        "print('# occurrences: %d' % len(occurrences))\n",
        "# occurrences: 79"
      ],
      "metadata": {
        "colab": {
          "base_uri": "https://localhost:8080/"
        },
        "id": "4q6kaN0NQAQe",
        "outputId": "d00124ad-5a37-4abc-d7ae-146ec7babdd5"
      },
      "execution_count": 24,
      "outputs": [
        {
          "output_type": "stream",
          "name": "stdout",
          "text": [
            "offset of leftmost occurrence: 10\n",
            "# occurrences: 79\n"
          ]
        }
      ]
    },
    {
      "cell_type": "code",
      "source": [
        "# Question 7\n",
        "# Finally, download and parse the provided FASTQ file containing real DNA sequencing reads derived from a human:\n",
        "# https://d28rh4a8wq0iu5.cloudfront.net/ads1/data/ERR037900_1.first1000.fastq\n",
        "\n",
        "# Note that the file has many reads in it and you should examine all of them together when answering this question. \n",
        "# The reads are taken from this study:\n",
        "\n",
        "# Ajay, S. S., Parker, S. C., Abaan, H. O., Fajardo, K. V. F., & Margulies, E. H. (2011). \n",
        "# Accurate and comprehensive sequencing of personal genomes. Genome research, 21(9), 1498-1505.\n",
        "\n",
        "# This dataset has something wrong with it; one of the sequencing cycles is poor quality.\n",
        "\n",
        "# Report which sequencing cycle has the problem. \n",
        "# Remember that a sequencing cycle corresponds to a particular offset in all the reads. \n",
        "# For example, if the leftmost read position seems to have a problem consistently across reads, report 0. \n",
        "# If the fourth position from the left has the problem, report 3. Do whatever analysis you think is needed to identify the bad cycle. It might help to review the \"Analyzing reads by position\" video.\n",
        "\n",
        "def findGCByPos(reads):\n",
        "\tgc = [0] * 100\n",
        "\ttotals = [0] * 100\n",
        "\tfor read in reads:\n",
        "\t\tfor i in range(len(read)):\n",
        "\t\t\tif read[i] == 'C' or read[i] == 'G':\n",
        "\t\t\t\tgc[i] += 1\n",
        "\t\t\ttotals[i] += 1\n",
        "\tfor i in range(len(gc)):\n",
        "\t\tif totals[i] > 0:\n",
        "\t\t\tgc[i] /= float(totals[i])\n",
        "\treturn gc"
      ],
      "metadata": {
        "id": "6DaCORvTQRdg"
      },
      "execution_count": 25,
      "outputs": []
    },
    {
      "cell_type": "code",
      "source": [
        "def phred33ToQ(qual):\n",
        "    return ord(qual) - 33"
      ],
      "metadata": {
        "id": "HoqW4rC1Qkut"
      },
      "execution_count": 26,
      "outputs": []
    },
    {
      "cell_type": "code",
      "source": [
        "def createHist(qualityStrings):\n",
        "    # Create a histogram of quality scores\n",
        "    hist = [0]*50\n",
        "    for read in qualityStrings:\n",
        "        for phred in read:\n",
        "            q = phred33ToQ(phred)\n",
        "            hist[q] += 1\n",
        "    return hist"
      ],
      "metadata": {
        "id": "jFYJui0yQ8aV"
      },
      "execution_count": 27,
      "outputs": []
    },
    {
      "cell_type": "code",
      "source": [
        "!wget https://d28rh4a8wq0iu5.cloudfront.net/ads1/data/ERR037900_1.first1000.fastq"
      ],
      "metadata": {
        "colab": {
          "base_uri": "https://localhost:8080/"
        },
        "id": "n9ls3FC2RYT3",
        "outputId": "c8e55a21-fc4f-4c35-8a78-2846a3c97569"
      },
      "execution_count": 28,
      "outputs": [
        {
          "output_type": "stream",
          "name": "stdout",
          "text": [
            "--2022-03-02 15:35:36--  https://d28rh4a8wq0iu5.cloudfront.net/ads1/data/ERR037900_1.first1000.fastq\n",
            "Resolving d28rh4a8wq0iu5.cloudfront.net (d28rh4a8wq0iu5.cloudfront.net)... 18.64.171.60, 18.64.171.223, 18.64.171.129, ...\n",
            "Connecting to d28rh4a8wq0iu5.cloudfront.net (d28rh4a8wq0iu5.cloudfront.net)|18.64.171.60|:443... connected.\n",
            "HTTP request sent, awaiting response... 200 OK\n",
            "Length: 241626 (236K) [application/octet-stream]\n",
            "Saving to: ‘ERR037900_1.first1000.fastq’\n",
            "\n",
            "ERR037900_1.first10 100%[===================>] 235.96K  --.-KB/s    in 0.06s   \n",
            "\n",
            "2022-03-02 15:35:36 (3.89 MB/s) - ‘ERR037900_1.first1000.fastq’ saved [241626/241626]\n",
            "\n"
          ]
        }
      ]
    },
    {
      "cell_type": "code",
      "source": [
        "seqs, quals = readFastq('ERR037900_1.first1000.fastq')"
      ],
      "metadata": {
        "id": "M4BLWqecRI3K"
      },
      "execution_count": 29,
      "outputs": []
    },
    {
      "cell_type": "code",
      "source": [
        "%matplotlib inline\n",
        "import matplotlib.pyplot as plt\n",
        "h = createHist(quals)\n",
        "print(h)\n",
        "#for i in range(len(h)):\n",
        "#\tprint(i)\n",
        "#\tprint(h[i])\n",
        "plt.plot(range(len(h)), h)\n",
        "plt.show()"
      ],
      "metadata": {
        "colab": {
          "base_uri": "https://localhost:8080/",
          "height": 303
        },
        "id": "04-keEYIRPJh",
        "outputId": "953b2b71-870e-4b73-98e4-3b560efb82fe"
      },
      "execution_count": 30,
      "outputs": [
        {
          "output_type": "stream",
          "name": "stdout",
          "text": [
            "[0, 0, 17723, 0, 2, 11, 11, 28, 23, 55, 100, 111, 86, 174, 185, 272, 317, 259, 390, 1523, 2782, 762, 286, 413, 403, 538, 351, 694, 971, 777, 1024, 1449, 1341, 1312, 1916, 2233, 3025, 4043, 6640, 45696, 2074, 0, 0, 0, 0, 0, 0, 0, 0, 0]\n"
          ]
        },
        {
          "output_type": "display_data",
          "data": {
            "image/png": "[encoded data removed]",
            "text/plain": [
              "<Figure size 432x288 with 1 Axes>"
            ]
          },
          "metadata": {
            "needs_background": "light"
          }
        }
      ]
    },
    {
      "cell_type": "code",
      "source": [
        "gc = findGCByPos(seqs)\n",
        "plt.plot(range(len(gc)), gc)\n",
        "plt.show()"
      ],
      "metadata": {
        "colab": {
          "base_uri": "https://localhost:8080/",
          "height": 265
        },
        "id": "OygNPzvJZYxU",
        "outputId": "a527673b-2467-4fee-953a-e1c78db3b0f8"
      },
      "execution_count": 31,
      "outputs": [
        {
          "output_type": "display_data",
          "data": {
            "image/png": "[encoded data removed]",
            "text/plain": [
              "<Figure size 432x288 with 1 Axes>"
            ]
          },
          "metadata": {
            "needs_background": "light"
          }
        }
      ]
    },
    {
      "cell_type": "code",
      "source": [
        "index_min = min(range(len(gc)), key=gc.__getitem__)\n",
        "index_min"
      ],
      "metadata": {
        "colab": {
          "base_uri": "https://localhost:8080/"
        },
        "id": "ShFv_LtSbkHP",
        "outputId": "11054bdd-5efb-49a1-cc90-0ba566c01927"
      },
      "execution_count": 33,
      "outputs": [
        {
          "output_type": "execute_result",
          "data": {
            "text/plain": [
              "66"
            ]
          },
          "metadata": {},
          "execution_count": 33
        }
      ]
    },
    {
      "cell_type": "code",
      "source": [
        "# distribution of bases in the sequences\n",
        "import collections\n",
        "count = collections.Counter()\n",
        "for seq in seqs:\n",
        "    count.update(seq)\n",
        "count"
      ],
      "metadata": {
        "colab": {
          "base_uri": "https://localhost:8080/"
        },
        "id": "Jqi_t43kZm2n",
        "outputId": "0204e253-f635-45c8-a271-6cfbe9b1a85d"
      },
      "execution_count": 32,
      "outputs": [
        {
          "output_type": "execute_result",
          "data": {
            "text/plain": [
              "Counter({'A': 24057, 'C': 29665, 'G': 22888, 'N': 914, 'T': 22476})"
            ]
          },
          "metadata": {},
          "execution_count": 32
        }
      ]
    }
  ]
}