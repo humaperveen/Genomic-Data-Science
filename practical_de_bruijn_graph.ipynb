{
  "nbformat": 4,
  "nbformat_minor": 0,
  "metadata": {
    "colab": {
      "name": "practical_de_bruijn_graph.ipynb",
      "provenance": [],
      "collapsed_sections": [],
      "mount_file_id": "1haoJ9i_5cr-P4xMLB2UnJJwpXYbUwJ6b",
      "authorship_tag": "ABX9TyNGvr08j+psjuMPXZXCK3C/"
    },
    "kernelspec": {
      "name": "python3",
      "display_name": "Python 3"
    },
    "language_info": {
      "name": "python"
    }
  },
  "cells": [
    {
      "cell_type": "markdown",
      "source": [
        "# Practical: Building a De Bruijn Graph"
      ],
      "metadata": {
        "id": "5LD8FisgTZdm"
      }
    },
    {
      "cell_type": "code",
      "source": [
        "def de_bruijn_ize(st, k):\n",
        "    \"\"\" Return a list holding, for each k-mer, its left\n",
        "        k-1-mer and its right k-1-mer in a pair \"\"\"\n",
        "    edges = []\n",
        "    nodes = set()\n",
        "    for i in range(len(st) - k + 1):\n",
        "        edges.append((st[i:i+k-1], st[i+1:i+k]))\n",
        "        nodes.add(st[i:i+k-1])\n",
        "        nodes.add(st[i+1:i+k])\n",
        "    return nodes, edges"
      ],
      "metadata": {
        "id": "V3thkFaBThac"
      },
      "execution_count": 4,
      "outputs": []
    },
    {
      "cell_type": "code",
      "source": [
        "nodes, edges = de_bruijn_ize(\"ACGCGTCG\", 3)"
      ],
      "metadata": {
        "id": "M2amZY64T1x9"
      },
      "execution_count": 5,
      "outputs": []
    },
    {
      "cell_type": "code",
      "source": [
        "nodes"
      ],
      "metadata": {
        "colab": {
          "base_uri": "https://localhost:8080/"
        },
        "id": "C8kQJRHST549",
        "outputId": "dff903d6-fa33-4adb-dc0f-30e56a86dae4"
      },
      "execution_count": 6,
      "outputs": [
        {
          "output_type": "execute_result",
          "data": {
            "text/plain": [
              "{'AC', 'CG', 'GC', 'GT', 'TC'}"
            ]
          },
          "metadata": {},
          "execution_count": 6
        }
      ]
    },
    {
      "cell_type": "code",
      "source": [
        "edges"
      ],
      "metadata": {
        "colab": {
          "base_uri": "https://localhost:8080/"
        },
        "id": "-Ffeqe1nT9Em",
        "outputId": "7a0230ed-6907-4031-de71-01b88b5b09c4"
      },
      "execution_count": 7,
      "outputs": [
        {
          "output_type": "execute_result",
          "data": {
            "text/plain": [
              "[('AC', 'CG'),\n",
              " ('CG', 'GC'),\n",
              " ('GC', 'CG'),\n",
              " ('CG', 'GT'),\n",
              " ('GT', 'TC'),\n",
              " ('TC', 'CG')]"
            ]
          },
          "metadata": {},
          "execution_count": 7
        }
      ]
    },
    {
      "cell_type": "code",
      "source": [
        "def visualize_de_bruijn(st, k):\n",
        "    \"\"\" Visualize a directed multigraph using graphviz \"\"\"\n",
        "    nodes, edges = de_bruijn_ize(st, k)\n",
        "    dot_str = 'digraph \"DeBruijn graph\" {\\n'\n",
        "    for node in nodes:\n",
        "        dot_str += '  %s [label=\"%s\"] ;\\n' % (node, node)\n",
        "    for src, dst in edges:\n",
        "        dot_str += '  %s -> %s ;\\n' % (src, dst)\n",
        "    return dot_str + '}\\n'"
      ],
      "metadata": {
        "id": "VEu4tyHZUCK2"
      },
      "execution_count": 3,
      "outputs": []
    },
    {
      "cell_type": "code",
      "source": [
        "#import sys\n",
        "#sys.path.append('/content/drive/MyDrive/Colab Notebooks')\n",
        "!pip install gvmagic"
      ],
      "metadata": {
        "colab": {
          "base_uri": "https://localhost:8080/",
          "height": 266
        },
        "id": "-wJWZlJ1WJ5K",
        "outputId": "7cc2299e-7978-474b-993a-798cdcdd487f"
      },
      "execution_count": 22,
      "outputs": [
        {
          "output_type": "stream",
          "name": "stdout",
          "text": [
            "Collecting gvmagic\n",
            "  Downloading gvmagic-0.5.tar.gz (6.5 kB)\n",
            "Building wheels for collected packages: gvmagic\n",
            "  Building wheel for gvmagic (setup.py) ... \u001b[?25l\u001b[?25hdone\n",
            "  Created wheel for gvmagic: filename=gvmagic-0.5-py3-none-any.whl size=10470 sha256=48c2479154e1ef77d284264c0f8ff521612d94c4506217f4967027768257111e\n",
            "  Stored in directory: /root/.cache/pip/wheels/e5/ad/b2/2ba1aaaf5b2004d96473291c80f98d4524a01c6d6e9d468172\n",
            "Successfully built gvmagic\n",
            "Installing collected packages: gvmagic\n",
            "Successfully installed gvmagic-0.5\n"
          ]
        },
        {
          "output_type": "display_data",
          "data": {
            "application/vnd.colab-display-data+json": {
              "pip_warning": {
                "packages": [
                  "gvmagic"
                ]
              }
            }
          },
          "metadata": {}
        }
      ]
    },
    {
      "cell_type": "code",
      "source": [
        "\n",
        "# might have to do this first:\n",
        "# %install_ext https://raw.github.com/cjdrake/ipython-magic/master/gvmagic.py\n",
        "%load_ext gvmagic"
      ],
      "metadata": {
        "id": "QnKK_sCXUGd2"
      },
      "execution_count": 1,
      "outputs": []
    },
    {
      "cell_type": "code",
      "source": [
        "%dotstr visualize_de_bruijn(\"ACGCGTCG\", 3)"
      ],
      "metadata": {
        "colab": {
          "base_uri": "https://localhost:8080/",
          "height": 367
        },
        "id": "bWFCHzkpUThm",
        "outputId": "c7353e75-9040-4765-9230-afa8ec9612d4"
      },
      "execution_count": 8,
      "outputs": [
        {
          "output_type": "display_data",
          "data": {
            "text/plain": [
              "<IPython.core.display.SVG object>"
            ],
            "image/svg+xml": "<svg height=\"260pt\" viewBox=\"0.00 0.00 161.00 260.00\" width=\"161pt\" xmlns=\"http://www.w3.org/2000/svg\" xmlns:xlink=\"http://www.w3.org/1999/xlink\">\n<g class=\"graph\" id=\"graph0\" transform=\"scale(1 1) rotate(0) translate(4 256)\">\n<title>DeBruijn graph</title>\n<polygon fill=\"#ffffff\" points=\"-4,4 -4,-256 157,-256 157,4 -4,4\" stroke=\"transparent\"/>\n<!-- CG -->\n<g class=\"node\" id=\"node1\">\n<title>CG</title>\n<ellipse cx=\"63\" cy=\"-162\" fill=\"none\" rx=\"27\" ry=\"18\" stroke=\"#000000\"/>\n<text fill=\"#000000\" font-family=\"Times,serif\" font-size=\"14.00\" text-anchor=\"middle\" x=\"63\" y=\"-158.3\">CG</text>\n</g>\n<!-- GC -->\n<g class=\"node\" id=\"node2\">\n<title>GC</title>\n<ellipse cx=\"27\" cy=\"-90\" fill=\"none\" rx=\"27\" ry=\"18\" stroke=\"#000000\"/>\n<text fill=\"#000000\" font-family=\"Times,serif\" font-size=\"14.00\" text-anchor=\"middle\" x=\"27\" y=\"-86.3\">GC</text>\n</g>\n<!-- CG&#45;&gt;GC -->\n<g class=\"edge\" id=\"edge2\">\n<title>CG-&gt;GC</title>\n<path d=\"M49.5101,-146.3771C44.2925,-137.9398 38.6601,-127.276 34.1698,-117.4994\" fill=\"none\" stroke=\"#000000\"/>\n<polygon fill=\"#000000\" points=\"37.3009,-115.9219 30.1179,-108.1338 30.8764,-118.7014 37.3009,-115.9219\" stroke=\"#000000\"/>\n</g>\n<!-- GT -->\n<g class=\"node\" id=\"node5\">\n<title>GT</title>\n<ellipse cx=\"99\" cy=\"-90\" fill=\"none\" rx=\"27\" ry=\"18\" stroke=\"#000000\"/>\n<text fill=\"#000000\" font-family=\"Times,serif\" font-size=\"14.00\" text-anchor=\"middle\" x=\"99\" y=\"-86.3\">GT</text>\n</g>\n<!-- CG&#45;&gt;GT -->\n<g class=\"edge\" id=\"edge4\">\n<title>CG-&gt;GT</title>\n<path d=\"M71.7146,-144.5708C75.9597,-136.0807 81.1536,-125.6929 85.8663,-116.2674\" fill=\"none\" stroke=\"#000000\"/>\n<polygon fill=\"#000000\" points=\"89.024,-117.7782 90.3657,-107.2687 82.763,-114.6477 89.024,-117.7782\" stroke=\"#000000\"/>\n</g>\n<!-- GC&#45;&gt;CG -->\n<g class=\"edge\" id=\"edge3\">\n<title>GC-&gt;CG</title>\n<path d=\"M40.6959,-105.9568C45.8674,-114.3599 51.4248,-124.9015 55.8612,-134.5681\" fill=\"none\" stroke=\"#000000\"/>\n<polygon fill=\"#000000\" points=\"52.6856,-136.0428 59.8681,-143.8314 59.1103,-133.2637 52.6856,-136.0428\" stroke=\"#000000\"/>\n</g>\n<!-- AC -->\n<g class=\"node\" id=\"node3\">\n<title>AC</title>\n<ellipse cx=\"63\" cy=\"-234\" fill=\"none\" rx=\"27\" ry=\"18\" stroke=\"#000000\"/>\n<text fill=\"#000000\" font-family=\"Times,serif\" font-size=\"14.00\" text-anchor=\"middle\" x=\"63\" y=\"-230.3\">AC</text>\n</g>\n<!-- AC&#45;&gt;CG -->\n<g class=\"edge\" id=\"edge1\">\n<title>AC-&gt;CG</title>\n<path d=\"M63,-215.8314C63,-208.131 63,-198.9743 63,-190.4166\" fill=\"none\" stroke=\"#000000\"/>\n<polygon fill=\"#000000\" points=\"66.5001,-190.4132 63,-180.4133 59.5001,-190.4133 66.5001,-190.4132\" stroke=\"#000000\"/>\n</g>\n<!-- TC -->\n<g class=\"node\" id=\"node4\">\n<title>TC</title>\n<ellipse cx=\"126\" cy=\"-18\" fill=\"none\" rx=\"27\" ry=\"18\" stroke=\"#000000\"/>\n<text fill=\"#000000\" font-family=\"Times,serif\" font-size=\"14.00\" text-anchor=\"middle\" x=\"126\" y=\"-14.3\">TC</text>\n</g>\n<!-- TC&#45;&gt;CG -->\n<g class=\"edge\" id=\"edge6\">\n<title>TC-&gt;CG</title>\n<path d=\"M133.1139,-35.5916C139.5842,-54.5083 146.517,-84.966 135,-108 126.5514,-124.8972 110.023,-137.8787 94.9314,-146.8742\" fill=\"none\" stroke=\"#000000\"/>\n<polygon fill=\"#000000\" points=\"92.8371,-144.0345 85.8054,-151.9595 96.2445,-150.1492 92.8371,-144.0345\" stroke=\"#000000\"/>\n</g>\n<!-- GT&#45;&gt;TC -->\n<g class=\"edge\" id=\"edge5\">\n<title>GT-&gt;TC</title>\n<path d=\"M105.6742,-72.2022C108.7476,-64.0064 112.4616,-54.1024 115.8695,-45.0145\" fill=\"none\" stroke=\"#000000\"/>\n<polygon fill=\"#000000\" points=\"119.1685,-46.1853 119.4026,-35.593 112.6142,-43.7274 119.1685,-46.1853\" stroke=\"#000000\"/>\n</g>\n</g>\n</svg>"
          },
          "metadata": {}
        }
      ]
    }
  ]
}